{
 "cells": [
  {
   "cell_type": "markdown",
   "id": "601a68e3",
   "metadata": {},
   "source": [
    "# AI PROJECT\n",
    "## Training AI car to race in TORCS using neural networks\n"
   ]
  },
  {
   "cell_type": "markdown",
   "id": "8f8fdf4a",
   "metadata": {},
   "source": [
    "## Group Members:"
   ]
  },
  {
   "cell_type": "markdown",
   "id": "9ac66ab8",
   "metadata": {},
   "source": []
  },
  {
   "cell_type": "code",
   "execution_count": 2,
   "id": "2f2b4972",
   "metadata": {},
   "outputs": [],
   "source": [
    "import pandas as pd\n",
    "import numpy as np\n",
    "from tensorflow.keras.models import Sequential\n",
    "from tensorflow.keras.layers import Dense, Activation, Dropout\n",
    "from tensorflow.keras.optimizers import Adam\n",
    "from sklearn.model_selection import train_test_split\n",
    "from sklearn.preprocessing import StandardScaler"
   ]
  },
  {
   "cell_type": "code",
   "execution_count": 26,
   "id": "367deece",
   "metadata": {},
   "outputs": [
    {
     "data": {
      "text/html": [
       "<div>\n",
       "<style scoped>\n",
       "    .dataframe tbody tr th:only-of-type {\n",
       "        vertical-align: middle;\n",
       "    }\n",
       "\n",
       "    .dataframe tbody tr th {\n",
       "        vertical-align: top;\n",
       "    }\n",
       "\n",
       "    .dataframe thead th {\n",
       "        text-align: right;\n",
       "    }\n",
       "</style>\n",
       "<table border=\"1\" class=\"dataframe\">\n",
       "  <thead>\n",
       "    <tr style=\"text-align: right;\">\n",
       "      <th></th>\n",
       "      <th>Angle</th>\n",
       "      <th>CurrentLapTime</th>\n",
       "      <th>Damage</th>\n",
       "      <th>DistanceFromStart</th>\n",
       "      <th>DistanceCovered</th>\n",
       "      <th>FuelLevel</th>\n",
       "      <th>Gear</th>\n",
       "      <th>LastLapTime</th>\n",
       "      <th>Opponent_1</th>\n",
       "      <th>Opponent_2</th>\n",
       "      <th>...</th>\n",
       "      <th>WheelSpinVelocity_1</th>\n",
       "      <th>WheelSpinVelocity_2</th>\n",
       "      <th>WheelSpinVelocity_3</th>\n",
       "      <th>WheelSpinVelocity_4</th>\n",
       "      <th>Z</th>\n",
       "      <th>Acceleration</th>\n",
       "      <th>Braking</th>\n",
       "      <th>Clutch</th>\n",
       "      <th>Gear</th>\n",
       "      <th>Steering</th>\n",
       "    </tr>\n",
       "  </thead>\n",
       "  <tbody>\n",
       "    <tr>\n",
       "      <th>0</th>\n",
       "      <td>0.0</td>\n",
       "      <td>-0.982</td>\n",
       "      <td>0.0</td>\n",
       "      <td>6201.46</td>\n",
       "      <td>0.0</td>\n",
       "      <td>94.0000</td>\n",
       "      <td>0</td>\n",
       "      <td>0.0</td>\n",
       "      <td>16.9999</td>\n",
       "      <td>200.0</td>\n",
       "      <td>...</td>\n",
       "      <td>0.0</td>\n",
       "      <td>0.0</td>\n",
       "      <td>0.0</td>\n",
       "      <td>0.0</td>\n",
       "      <td>0.345263</td>\n",
       "      <td>1.0</td>\n",
       "      <td>0.0</td>\n",
       "      <td>0.64</td>\n",
       "      <td>1</td>\n",
       "      <td>-0.028559</td>\n",
       "    </tr>\n",
       "    <tr>\n",
       "      <th>1</th>\n",
       "      <td>0.0</td>\n",
       "      <td>-0.962</td>\n",
       "      <td>0.0</td>\n",
       "      <td>6201.46</td>\n",
       "      <td>0.0</td>\n",
       "      <td>94.0000</td>\n",
       "      <td>0</td>\n",
       "      <td>0.0</td>\n",
       "      <td>16.9999</td>\n",
       "      <td>200.0</td>\n",
       "      <td>...</td>\n",
       "      <td>0.0</td>\n",
       "      <td>0.0</td>\n",
       "      <td>0.0</td>\n",
       "      <td>0.0</td>\n",
       "      <td>0.345263</td>\n",
       "      <td>1.0</td>\n",
       "      <td>0.0</td>\n",
       "      <td>0.64</td>\n",
       "      <td>1</td>\n",
       "      <td>-0.028559</td>\n",
       "    </tr>\n",
       "    <tr>\n",
       "      <th>2</th>\n",
       "      <td>0.0</td>\n",
       "      <td>-0.942</td>\n",
       "      <td>0.0</td>\n",
       "      <td>6201.46</td>\n",
       "      <td>0.0</td>\n",
       "      <td>93.9999</td>\n",
       "      <td>0</td>\n",
       "      <td>0.0</td>\n",
       "      <td>16.9999</td>\n",
       "      <td>200.0</td>\n",
       "      <td>...</td>\n",
       "      <td>0.0</td>\n",
       "      <td>0.0</td>\n",
       "      <td>0.0</td>\n",
       "      <td>0.0</td>\n",
       "      <td>0.345263</td>\n",
       "      <td>1.0</td>\n",
       "      <td>0.0</td>\n",
       "      <td>0.64</td>\n",
       "      <td>1</td>\n",
       "      <td>-0.028559</td>\n",
       "    </tr>\n",
       "    <tr>\n",
       "      <th>3</th>\n",
       "      <td>0.0</td>\n",
       "      <td>-0.922</td>\n",
       "      <td>0.0</td>\n",
       "      <td>6201.46</td>\n",
       "      <td>0.0</td>\n",
       "      <td>93.9998</td>\n",
       "      <td>0</td>\n",
       "      <td>0.0</td>\n",
       "      <td>16.9999</td>\n",
       "      <td>200.0</td>\n",
       "      <td>...</td>\n",
       "      <td>0.0</td>\n",
       "      <td>0.0</td>\n",
       "      <td>0.0</td>\n",
       "      <td>0.0</td>\n",
       "      <td>0.345263</td>\n",
       "      <td>1.0</td>\n",
       "      <td>0.0</td>\n",
       "      <td>0.64</td>\n",
       "      <td>1</td>\n",
       "      <td>-0.028559</td>\n",
       "    </tr>\n",
       "    <tr>\n",
       "      <th>4</th>\n",
       "      <td>0.0</td>\n",
       "      <td>-0.902</td>\n",
       "      <td>0.0</td>\n",
       "      <td>6201.46</td>\n",
       "      <td>0.0</td>\n",
       "      <td>93.9997</td>\n",
       "      <td>0</td>\n",
       "      <td>0.0</td>\n",
       "      <td>16.9999</td>\n",
       "      <td>200.0</td>\n",
       "      <td>...</td>\n",
       "      <td>0.0</td>\n",
       "      <td>0.0</td>\n",
       "      <td>0.0</td>\n",
       "      <td>0.0</td>\n",
       "      <td>0.345263</td>\n",
       "      <td>1.0</td>\n",
       "      <td>0.0</td>\n",
       "      <td>0.64</td>\n",
       "      <td>1</td>\n",
       "      <td>-0.028559</td>\n",
       "    </tr>\n",
       "  </tbody>\n",
       "</table>\n",
       "<p>5 rows × 79 columns</p>\n",
       "</div>"
      ],
      "text/plain": [
       "   Angle   CurrentLapTime   Damage   DistanceFromStart   DistanceCovered  \\\n",
       "0    0.0           -0.982      0.0             6201.46               0.0   \n",
       "1    0.0           -0.962      0.0             6201.46               0.0   \n",
       "2    0.0           -0.942      0.0             6201.46               0.0   \n",
       "3    0.0           -0.922      0.0             6201.46               0.0   \n",
       "4    0.0           -0.902      0.0             6201.46               0.0   \n",
       "\n",
       "    FuelLevel   Gear   LastLapTime   Opponent_1  Opponent_2  ...  \\\n",
       "0     94.0000      0           0.0      16.9999       200.0  ...   \n",
       "1     94.0000      0           0.0      16.9999       200.0  ...   \n",
       "2     93.9999      0           0.0      16.9999       200.0  ...   \n",
       "3     93.9998      0           0.0      16.9999       200.0  ...   \n",
       "4     93.9997      0           0.0      16.9999       200.0  ...   \n",
       "\n",
       "    WheelSpinVelocity_1  WheelSpinVelocity_2  WheelSpinVelocity_3  \\\n",
       "0                   0.0                  0.0                  0.0   \n",
       "1                   0.0                  0.0                  0.0   \n",
       "2                   0.0                  0.0                  0.0   \n",
       "3                   0.0                  0.0                  0.0   \n",
       "4                   0.0                  0.0                  0.0   \n",
       "\n",
       "   WheelSpinVelocity_4         Z   Acceleration  Braking  Clutch  Gear  \\\n",
       "0                  0.0  0.345263            1.0      0.0    0.64     1   \n",
       "1                  0.0  0.345263            1.0      0.0    0.64     1   \n",
       "2                  0.0  0.345263            1.0      0.0    0.64     1   \n",
       "3                  0.0  0.345263            1.0      0.0    0.64     1   \n",
       "4                  0.0  0.345263            1.0      0.0    0.64     1   \n",
       "\n",
       "   Steering  \n",
       "0 -0.028559  \n",
       "1 -0.028559  \n",
       "2 -0.028559  \n",
       "3 -0.028559  \n",
       "4 -0.028559  \n",
       "\n",
       "[5 rows x 79 columns]"
      ]
     },
     "execution_count": 26,
     "metadata": {},
     "output_type": "execute_result"
    }
   ],
   "source": [
    "#Load the dataset\n",
    "df = pd.read_csv('data.csv')\n",
    "df.head()"
   ]
  },
  {
   "cell_type": "code",
   "execution_count": 27,
   "id": "4d4ad6f8",
   "metadata": {},
   "outputs": [
    {
     "data": {
      "text/plain": [
       "['Angle',\n",
       " 'CurrentLapTime',\n",
       " 'Damage',\n",
       " 'DistanceFromStart',\n",
       " 'DistanceCovered',\n",
       " 'FuelLevel',\n",
       " 'Gear',\n",
       " 'LastLapTime',\n",
       " 'Opponent_1',\n",
       " 'Opponent_2',\n",
       " 'Opponent_3',\n",
       " 'Opponent_4',\n",
       " 'Opponent_5',\n",
       " 'Opponent_6',\n",
       " 'Opponent_7',\n",
       " 'Opponent_8',\n",
       " 'Opponent_9',\n",
       " 'Opponent_10',\n",
       " 'Opponent_11',\n",
       " 'Opponent_12',\n",
       " 'Opponent_13',\n",
       " 'Opponent_14',\n",
       " 'Opponent_15',\n",
       " 'Opponent_16',\n",
       " 'Opponent_17',\n",
       " 'Opponent_18',\n",
       " 'Opponent_19',\n",
       " 'Opponent_20',\n",
       " 'Opponent_21',\n",
       " 'Opponent_22',\n",
       " 'Opponent_23',\n",
       " 'Opponent_24',\n",
       " 'Opponent_25',\n",
       " 'Opponent_26',\n",
       " 'Opponent_27',\n",
       " 'Opponent_28',\n",
       " 'Opponent_29',\n",
       " 'Opponent_30',\n",
       " 'Opponent_31',\n",
       " 'Opponent_32',\n",
       " 'Opponent_33',\n",
       " 'Opponent_34',\n",
       " 'Opponent_35',\n",
       " 'Opponent_36',\n",
       " 'RacePosition',\n",
       " 'RPM',\n",
       " 'SpeedX',\n",
       " 'SpeedY',\n",
       " 'SpeedZ',\n",
       " 'Track_1',\n",
       " 'Track_2',\n",
       " 'Track_3',\n",
       " 'Track_4',\n",
       " 'Track_5',\n",
       " 'Track_6',\n",
       " 'Track_7',\n",
       " 'Track_8',\n",
       " 'Track_9',\n",
       " 'Track_10',\n",
       " 'Track_11',\n",
       " 'Track_12',\n",
       " 'Track_13',\n",
       " 'Track_14',\n",
       " 'Track_15',\n",
       " 'Track_16',\n",
       " 'Track_17',\n",
       " 'Track_18',\n",
       " 'Track_19',\n",
       " 'TrackPosition',\n",
       " 'WheelSpinVelocity_1',\n",
       " 'WheelSpinVelocity_2',\n",
       " 'WheelSpinVelocity_3',\n",
       " 'WheelSpinVelocity_4',\n",
       " 'Z',\n",
       " 'Acceleration',\n",
       " 'Braking',\n",
       " 'Clutch',\n",
       " 'Gear',\n",
       " 'Steering']"
      ]
     },
     "execution_count": 27,
     "metadata": {},
     "output_type": "execute_result"
    }
   ],
   "source": [
    "# Strip trailing spaces from column names\n",
    "df.columns = [col.strip() for col in df.columns]\n",
    "df.columns.tolist()"
   ]
  },
  {
   "cell_type": "code",
   "execution_count": 28,
   "id": "ba0fa77f",
   "metadata": {},
   "outputs": [
    {
     "data": {
      "text/plain": [
       "(15562, 79)"
      ]
     },
     "execution_count": 28,
     "metadata": {},
     "output_type": "execute_result"
    }
   ],
   "source": [
    "#Shape of DataFrame\n",
    "df.shape"
   ]
  },
  {
   "cell_type": "code",
   "execution_count": 29,
   "id": "db82ecf4",
   "metadata": {},
   "outputs": [
    {
     "data": {
      "text/plain": [
       "(   Angle  CurrentLapTime  Damage  DistanceFromStart  DistanceCovered  \\\n",
       " 0    0.0          -0.982     0.0            6201.46              0.0   \n",
       " 1    0.0          -0.962     0.0            6201.46              0.0   \n",
       " 2    0.0          -0.942     0.0            6201.46              0.0   \n",
       " 3    0.0          -0.922     0.0            6201.46              0.0   \n",
       " 4    0.0          -0.902     0.0            6201.46              0.0   \n",
       " \n",
       "    FuelLevel  LastLapTime  Opponent_1  Opponent_2  Opponent_3  ...  Track_16  \\\n",
       " 0    94.0000          0.0     16.9999       200.0       200.0  ...   13.9476   \n",
       " 1    94.0000          0.0     16.9999       200.0       200.0  ...   13.9476   \n",
       " 2    93.9999          0.0     16.9999       200.0       200.0  ...   13.9476   \n",
       " 3    93.9998          0.0     16.9999       200.0       200.0  ...   13.9476   \n",
       " 4    93.9997          0.0     16.9999       200.0       200.0  ...   13.9476   \n",
       " \n",
       "    Track_17  Track_18  Track_19  TrackPosition  WheelSpinVelocity_1  \\\n",
       " 0   10.4433    8.2822   7.99999       0.333332                  0.0   \n",
       " 1   10.4433    8.2822   7.99999       0.333332                  0.0   \n",
       " 2   10.4433    8.2822   7.99999       0.333332                  0.0   \n",
       " 3   10.4433    8.2822   7.99999       0.333332                  0.0   \n",
       " 4   10.4433    8.2822   7.99999       0.333332                  0.0   \n",
       " \n",
       "    WheelSpinVelocity_2  WheelSpinVelocity_3  WheelSpinVelocity_4         Z  \n",
       " 0                  0.0                  0.0                  0.0  0.345263  \n",
       " 1                  0.0                  0.0                  0.0  0.345263  \n",
       " 2                  0.0                  0.0                  0.0  0.345263  \n",
       " 3                  0.0                  0.0                  0.0  0.345263  \n",
       " 4                  0.0                  0.0                  0.0  0.345263  \n",
       " \n",
       " [5 rows x 73 columns],\n",
       "    Acceleration  Braking  Clutch  Gear  Gear  Steering\n",
       " 0           1.0      0.0    0.64     0     1 -0.028559\n",
       " 1           1.0      0.0    0.64     0     1 -0.028559\n",
       " 2           1.0      0.0    0.64     0     1 -0.028559\n",
       " 3           1.0      0.0    0.64     0     1 -0.028559\n",
       " 4           1.0      0.0    0.64     0     1 -0.028559)"
      ]
     },
     "execution_count": 29,
     "metadata": {},
     "output_type": "execute_result"
    }
   ],
   "source": [
    "X = df.drop(columns=['Acceleration', 'Braking','Clutch', 'Gear', 'Steering'])\n",
    "y = df[['Acceleration', 'Braking','Clutch', 'Gear', 'Steering']]\n",
    "X.head(), y.head()"
   ]
  },
  {
   "cell_type": "code",
   "execution_count": 30,
   "id": "ffb228ce",
   "metadata": {},
   "outputs": [
    {
     "data": {
      "text/plain": [
       "(15562, 6)"
      ]
     },
     "execution_count": 30,
     "metadata": {},
     "output_type": "execute_result"
    }
   ],
   "source": [
    "y.shape"
   ]
  },
  {
   "cell_type": "code",
   "execution_count": null,
   "id": "c5ee9053",
   "metadata": {},
   "outputs": [],
   "source": []
  },
  {
   "cell_type": "code",
   "execution_count": null,
   "id": "a44c9ddf",
   "metadata": {},
   "outputs": [],
   "source": []
  },
  {
   "cell_type": "code",
   "execution_count": 31,
   "id": "0962f89d",
   "metadata": {},
   "outputs": [
    {
     "data": {
      "text/plain": [
       "array([[ 0.01192514, -1.45207052,  0.        , ..., -2.76754534,\n",
       "        -2.77316717,  1.36952412],\n",
       "       [ 0.01192514, -1.45147768,  0.        , ..., -2.76754534,\n",
       "        -2.77316717,  1.36952412],\n",
       "       [ 0.01192514, -1.45088484,  0.        , ..., -2.76754534,\n",
       "        -2.77316717,  1.36952412],\n",
       "       ...,\n",
       "       [-0.99665227, -0.1154524 ,  0.        , ..., -1.25805059,\n",
       "        -1.2753706 ,  1.04716883],\n",
       "       [-0.98130294, -0.11485956,  0.        , ..., -1.25824029,\n",
       "        -1.27550957,  1.01719372],\n",
       "       [-0.96574516, -0.11426672,  0.        , ..., -1.25845736,\n",
       "        -1.2756505 ,  0.98967559]])"
      ]
     },
     "execution_count": 31,
     "metadata": {},
     "output_type": "execute_result"
    }
   ],
   "source": [
    "#Scale the data\n",
    "scaler = StandardScaler()\n",
    "X_scaled = scaler.fit_transform(X)\n",
    "X_scaled  "
   ]
  },
  {
   "cell_type": "code",
   "execution_count": 37,
   "id": "a0efc3d1",
   "metadata": {},
   "outputs": [
    {
     "data": {
      "text/plain": [
       "((12449, 73), (3113, 73), (12449, 6), (3113, 6))"
      ]
     },
     "execution_count": 37,
     "metadata": {},
     "output_type": "execute_result"
    }
   ],
   "source": [
    "#Split the data into training and testing sets\n",
    "X_train, X_test, y_train, y_test = train_test_split(X_scaled, y, test_size=0.2, random_state=42)\n",
    "X_train.shape, X_test.shape, y_train.shape, y_test.shape"
   ]
  },
  {
   "cell_type": "code",
   "execution_count": 38,
   "id": "83fcacb2",
   "metadata": {},
   "outputs": [
    {
     "name": "stdout",
     "output_type": "stream",
     "text": [
      "(3113, 6)\n",
      "[[ 1.          0.          0.63999999  1.          1.         -0.02174521]\n",
      " [ 0.          0.          0.          3.          3.         -0.06947872]\n",
      " [ 0.82083607  0.          0.          2.          2.          0.33756357]\n",
      " [ 1.          0.          0.          4.          4.         -0.02545111]\n",
      " [ 0.99562663  0.          0.          3.          3.          0.08160117]]\n"
     ]
    }
   ],
   "source": [
    "# Ytest is datafram so convert to array\n",
    "y_test = y_test.values\n",
    "print(y_test.shape)\n",
    "print(y_test[0:5])\n",
    "\n"
   ]
  },
  {
   "cell_type": "code",
   "execution_count": 39,
   "id": "429c6508",
   "metadata": {},
   "outputs": [
    {
     "name": "stdout",
     "output_type": "stream",
     "text": [
      "(3113, 5)\n",
      "[[ 1.          0.          0.63999999  1.         -0.02174521]\n",
      " [ 0.          0.          0.          3.         -0.06947872]\n",
      " [ 0.82083607  0.          0.          2.          0.33756357]\n",
      " [ 1.          0.          0.          4.         -0.02545111]\n",
      " [ 0.99562663  0.          0.          3.          0.08160117]]\n"
     ]
    }
   ],
   "source": [
    "#Drop first column of y_test\n",
    "y_test = np.delete(y_test, 3, axis=1)\n",
    "print(y_test.shape)\n",
    "print(y_test[0:5])\n"
   ]
  },
  {
   "cell_type": "code",
   "execution_count": 40,
   "id": "5abb423a",
   "metadata": {},
   "outputs": [
    {
     "name": "stdout",
     "output_type": "stream",
     "text": [
      "(12449, 5)\n",
      "[[ 1.00000000e+00  0.00000000e+00  0.00000000e+00  5.00000000e+00\n",
      "   5.17299595e-05]\n",
      " [ 9.99999821e-01  0.00000000e+00  0.00000000e+00  5.00000000e+00\n",
      "  -1.25332847e-02]\n",
      " [ 0.00000000e+00  8.68257344e-01  0.00000000e+00  3.00000000e+00\n",
      "  -9.16183367e-02]\n",
      " [ 1.00000000e+00  0.00000000e+00  0.00000000e+00  2.00000000e+00\n",
      "   1.96708441e-02]\n",
      " [ 0.00000000e+00  2.54323661e-01  0.00000000e+00  5.00000000e+00\n",
      "   9.71237756e-03]]\n"
     ]
    }
   ],
   "source": [
    "y_train = np.delete(y_train, 3, axis=1)\n",
    "print(y_train.shape)\n",
    "print(y_train[0:5])"
   ]
  },
  {
   "cell_type": "code",
   "execution_count": 13,
   "id": "ded4d1f2",
   "metadata": {},
   "outputs": [
    {
     "name": "stdout",
     "output_type": "stream",
     "text": [
      "[[ 0.0080785   2.06620052  0.          2.14503508  0.89314483 -1.10898848\n",
      "  -0.62228133 -1.67054411  0.30298133  0.27459961  0.23531528  0.14139417\n",
      "   0.12458456  0.10515415  0.10407631  0.10277568  0.09445251  0.09469325\n",
      "   0.10318154  0.10939301  0.11972723  0.10468252  0.0768131   0.08084802\n",
      "   0.          0.08885934  0.06167091  0.03929737  0.03106017  0.02535689\n",
      "   0.02295133  0.03287994  0.04389672  0.09434418  0.1490513   0.16631732\n",
      "   0.14673462  0.18605354  0.216924    0.24960478  0.33129227  0.35439739\n",
      "   0.48574718 -0.13161937  1.30443718  1.67099816 -0.04324041 -0.01550898\n",
      "   0.05070007  0.05090506  0.06773571  0.08507875  0.03474115  0.04691228\n",
      "   0.03687784  0.10186026  2.02312441  2.15051405  2.23401449  0.03353485\n",
      "  -0.26046442 -0.11345276 -0.08399628 -0.03559613 -0.05374064 -0.06211127\n",
      "  -0.06146586 -0.05650064  1.68967406  1.68671414  1.67250862  1.66382864\n",
      "  -1.98809774]\n",
      " [ 0.62140396  0.73456226  0.          0.63252639 -0.21443894  0.10455547\n",
      "  -0.62228133  0.46702849  0.30298133  0.27459961  0.23531528  0.14139417\n",
      "   0.12458456  0.10515415  0.10407631  0.10277568  0.09445251  0.09469325\n",
      "   0.10318154  0.10939301  0.11972723  0.10468252  0.0768131   0.08084802\n",
      "   0.          0.08885934  0.06167091  0.03929737  0.03106017  0.02535689\n",
      "   0.02295133  0.03287994  0.04389672  0.09434418  0.1490513   0.16631732\n",
      "   0.14673462  0.18605354  0.216924    0.24960478  0.33129227  0.35439739\n",
      "   0.48574718 -0.13161937  0.11407117  1.04978858  1.20757325 -0.07001107\n",
      "   0.63770717  0.6649958   0.73124832  0.75534997  0.3983078   0.30924611\n",
      "   0.05814711 -0.47703391 -0.43560707 -0.33997692 -0.19433412  1.81583308\n",
      "  -0.28808733 -0.50261532 -0.52382622 -0.71007218 -0.69045276 -0.66245105\n",
      "  -0.6455631  -0.64277298  1.05141603  1.08425983  1.07187182  1.06988296\n",
      "  -0.71128908]\n",
      " [ 3.78488791  1.66970881  0.          1.69014282  0.56003515 -0.71422199\n",
      "  -0.62228133  0.46702849  0.30298133  0.27459961  0.23531528  0.14139417\n",
      "   0.12458456  0.10515415  0.10407631  0.10277568  0.09445251  0.09469325\n",
      "   0.10318154  0.10939301  0.11972723  0.10468252  0.0768131   0.08084802\n",
      "   0.          0.08885934  0.06167091  0.03929737  0.03106017  0.02535689\n",
      "   0.02295133  0.03287994  0.04389672  0.09434418  0.1490513   0.16631732\n",
      "   0.14673462  0.18605354  0.216924    0.24960478  0.33129227  0.35439739\n",
      "  -2.29584429 -0.13161937  0.51371577  0.12025715  2.21149037 -0.05217101\n",
      "   0.54956196  0.76382471  1.33753795  1.68049708  0.91670362  0.65012965\n",
      "   0.15330955 -0.60009444 -0.71286283 -0.71879714 -0.69557749 -0.37896134\n",
      "  -1.19548756 -0.97124049 -0.87953184 -0.94782808 -0.75589427 -0.53002663\n",
      "  -0.40041896 -0.4620063   0.04126588  0.13641717  0.06277932  0.10164815\n",
      "  -0.25748557]\n",
      " [ 1.00997485 -0.78002656  0.         -0.81805063  1.25945677 -1.14406828\n",
      "   1.60961974  0.46702849  0.30298133  0.27459961 -0.15196795  0.14139417\n",
      "   0.12458456  0.10515415  0.10407631  0.10277568  0.09445251  0.09469325\n",
      "   0.10318154  0.10939301  0.11972723  0.10468252  0.0768131   0.08084802\n",
      "   0.          0.08885934  0.06167091  0.03929737  0.03106017  0.02535689\n",
      "   0.02295133  0.03287994  0.04389672  0.09434418  0.1490513   0.16631732\n",
      "   0.14673462  0.18605354  0.216924   -0.06766285  0.33129227  0.35439739\n",
      "   0.48574718 -0.13161937 -0.91694337 -1.17642398 -0.03575268  0.12235267\n",
      "  -1.90595263 -1.89452615 -1.90378064 -1.89013347 -1.23630324 -1.17560568\n",
      "   1.83312414  0.60984904  0.18877837 -0.63490036 -0.76174724 -0.98561037\n",
      "  -0.51837859 -0.03438169  0.2781693   1.27359047  1.56593097  1.81442472\n",
      "   1.90866017  1.90684706 -1.14594882 -1.15577754 -1.19128687 -1.20048145\n",
      "   0.85126592]\n",
      " [-0.2267567   0.81346933  0.          0.73096564 -0.14235359  0.01933259\n",
      "  -0.62228133  0.46702849  0.30298133  0.27459961  0.23531528  0.14139417\n",
      "   0.12458456  0.10515415  0.10407631  0.10277568  0.09445251  0.09469325\n",
      "   0.10318154  0.10939301  0.11972723  0.10468252  0.0768131   0.08084802\n",
      "   0.          0.08885934  0.06167091  0.03929737  0.03106017  0.02535689\n",
      "   0.02295133  0.03287994  0.04389672  0.09434418  0.1490513   0.16631732\n",
      "   0.14673462  0.18605354  0.216924    0.24960478  0.33129227  0.35439739\n",
      "   0.48574718 -0.13161937  0.70618324  1.39281442 -0.24449203 -1.00197789\n",
      "   0.28217934  0.27091954  0.26910759  0.26496847  0.12005149  0.10861886\n",
      "   0.05094038  1.07726974  0.07351945  0.01409835 -0.04670429 -0.12069334\n",
      "  -0.27429284 -0.17799126 -0.17596747 -0.224692   -0.25795259 -0.28357632\n",
      "  -0.29276337 -0.28833126  1.41540907  1.40719535  1.3691492   1.36699282\n",
      "  -1.53191915]]\n",
      "(12449, 73)\n"
     ]
    }
   ],
   "source": [
    "# Check X_train:\n",
    "print(X_train[0:5])\n",
    "print(X_train.shape)\n"
   ]
  },
  {
   "cell_type": "code",
   "execution_count": 41,
   "id": "150c6fde",
   "metadata": {},
   "outputs": [
    {
     "name": "stderr",
     "output_type": "stream",
     "text": [
      "c:\\Users\\Pc\\anaconda3\\Lib\\site-packages\\keras\\src\\layers\\core\\dense.py:87: UserWarning: Do not pass an `input_shape`/`input_dim` argument to a layer. When using Sequential models, prefer using an `Input(shape)` object as the first layer in the model instead.\n",
      "  super().__init__(activity_regularizer=activity_regularizer, **kwargs)\n"
     ]
    }
   ],
   "source": [
    "model = Sequential()\n",
    "model.add(Dense(64, input_dim=73, activation='relu'))\n",
    "model.add(Dense(64, activation='relu'))\n",
    "#Output layer with 5 neurons for 5 outputs\n",
    "model.add(Dense(5, activation='linear'))\n",
    "\n",
    "model.compile(optimizer=Adam(learning_rate=0.001), loss='mean_squared_error', metrics=['mae'])\n"
   ]
  },
  {
   "cell_type": "code",
   "execution_count": 42,
   "id": "de41c2ad",
   "metadata": {},
   "outputs": [
    {
     "data": {
      "text/html": [
       "<pre style=\"white-space:pre;overflow-x:auto;line-height:normal;font-family:Menlo,'DejaVu Sans Mono',consolas,'Courier New',monospace\"><span style=\"font-weight: bold\">Model: \"sequential_1\"</span>\n",
       "</pre>\n"
      ],
      "text/plain": [
       "\u001b[1mModel: \"sequential_1\"\u001b[0m\n"
      ]
     },
     "metadata": {},
     "output_type": "display_data"
    },
    {
     "data": {
      "text/html": [
       "<pre style=\"white-space:pre;overflow-x:auto;line-height:normal;font-family:Menlo,'DejaVu Sans Mono',consolas,'Courier New',monospace\">┏━━━━━━━━━━━━━━━━━━━━━━━━━━━━━━━━━┳━━━━━━━━━━━━━━━━━━━━━━━━┳━━━━━━━━━━━━━━━┓\n",
       "┃<span style=\"font-weight: bold\"> Layer (type)                    </span>┃<span style=\"font-weight: bold\"> Output Shape           </span>┃<span style=\"font-weight: bold\">       Param # </span>┃\n",
       "┡━━━━━━━━━━━━━━━━━━━━━━━━━━━━━━━━━╇━━━━━━━━━━━━━━━━━━━━━━━━╇━━━━━━━━━━━━━━━┩\n",
       "│ dense_3 (<span style=\"color: #0087ff; text-decoration-color: #0087ff\">Dense</span>)                 │ (<span style=\"color: #00d7ff; text-decoration-color: #00d7ff\">None</span>, <span style=\"color: #00af00; text-decoration-color: #00af00\">64</span>)             │         <span style=\"color: #00af00; text-decoration-color: #00af00\">4,736</span> │\n",
       "├─────────────────────────────────┼────────────────────────┼───────────────┤\n",
       "│ dense_4 (<span style=\"color: #0087ff; text-decoration-color: #0087ff\">Dense</span>)                 │ (<span style=\"color: #00d7ff; text-decoration-color: #00d7ff\">None</span>, <span style=\"color: #00af00; text-decoration-color: #00af00\">64</span>)             │         <span style=\"color: #00af00; text-decoration-color: #00af00\">4,160</span> │\n",
       "├─────────────────────────────────┼────────────────────────┼───────────────┤\n",
       "│ dense_5 (<span style=\"color: #0087ff; text-decoration-color: #0087ff\">Dense</span>)                 │ (<span style=\"color: #00d7ff; text-decoration-color: #00d7ff\">None</span>, <span style=\"color: #00af00; text-decoration-color: #00af00\">5</span>)              │           <span style=\"color: #00af00; text-decoration-color: #00af00\">325</span> │\n",
       "└─────────────────────────────────┴────────────────────────┴───────────────┘\n",
       "</pre>\n"
      ],
      "text/plain": [
       "┏━━━━━━━━━━━━━━━━━━━━━━━━━━━━━━━━━┳━━━━━━━━━━━━━━━━━━━━━━━━┳━━━━━━━━━━━━━━━┓\n",
       "┃\u001b[1m \u001b[0m\u001b[1mLayer (type)                   \u001b[0m\u001b[1m \u001b[0m┃\u001b[1m \u001b[0m\u001b[1mOutput Shape          \u001b[0m\u001b[1m \u001b[0m┃\u001b[1m \u001b[0m\u001b[1m      Param #\u001b[0m\u001b[1m \u001b[0m┃\n",
       "┡━━━━━━━━━━━━━━━━━━━━━━━━━━━━━━━━━╇━━━━━━━━━━━━━━━━━━━━━━━━╇━━━━━━━━━━━━━━━┩\n",
       "│ dense_3 (\u001b[38;5;33mDense\u001b[0m)                 │ (\u001b[38;5;45mNone\u001b[0m, \u001b[38;5;34m64\u001b[0m)             │         \u001b[38;5;34m4,736\u001b[0m │\n",
       "├─────────────────────────────────┼────────────────────────┼───────────────┤\n",
       "│ dense_4 (\u001b[38;5;33mDense\u001b[0m)                 │ (\u001b[38;5;45mNone\u001b[0m, \u001b[38;5;34m64\u001b[0m)             │         \u001b[38;5;34m4,160\u001b[0m │\n",
       "├─────────────────────────────────┼────────────────────────┼───────────────┤\n",
       "│ dense_5 (\u001b[38;5;33mDense\u001b[0m)                 │ (\u001b[38;5;45mNone\u001b[0m, \u001b[38;5;34m5\u001b[0m)              │           \u001b[38;5;34m325\u001b[0m │\n",
       "└─────────────────────────────────┴────────────────────────┴───────────────┘\n"
      ]
     },
     "metadata": {},
     "output_type": "display_data"
    },
    {
     "data": {
      "text/html": [
       "<pre style=\"white-space:pre;overflow-x:auto;line-height:normal;font-family:Menlo,'DejaVu Sans Mono',consolas,'Courier New',monospace\"><span style=\"font-weight: bold\"> Total params: </span><span style=\"color: #00af00; text-decoration-color: #00af00\">9,221</span> (36.02 KB)\n",
       "</pre>\n"
      ],
      "text/plain": [
       "\u001b[1m Total params: \u001b[0m\u001b[38;5;34m9,221\u001b[0m (36.02 KB)\n"
      ]
     },
     "metadata": {},
     "output_type": "display_data"
    },
    {
     "data": {
      "text/html": [
       "<pre style=\"white-space:pre;overflow-x:auto;line-height:normal;font-family:Menlo,'DejaVu Sans Mono',consolas,'Courier New',monospace\"><span style=\"font-weight: bold\"> Trainable params: </span><span style=\"color: #00af00; text-decoration-color: #00af00\">9,221</span> (36.02 KB)\n",
       "</pre>\n"
      ],
      "text/plain": [
       "\u001b[1m Trainable params: \u001b[0m\u001b[38;5;34m9,221\u001b[0m (36.02 KB)\n"
      ]
     },
     "metadata": {},
     "output_type": "display_data"
    },
    {
     "data": {
      "text/html": [
       "<pre style=\"white-space:pre;overflow-x:auto;line-height:normal;font-family:Menlo,'DejaVu Sans Mono',consolas,'Courier New',monospace\"><span style=\"font-weight: bold\"> Non-trainable params: </span><span style=\"color: #00af00; text-decoration-color: #00af00\">0</span> (0.00 B)\n",
       "</pre>\n"
      ],
      "text/plain": [
       "\u001b[1m Non-trainable params: \u001b[0m\u001b[38;5;34m0\u001b[0m (0.00 B)\n"
      ]
     },
     "metadata": {},
     "output_type": "display_data"
    }
   ],
   "source": [
    "model.summary()"
   ]
  },
  {
   "cell_type": "code",
   "execution_count": 43,
   "id": "367a9e93",
   "metadata": {},
   "outputs": [
    {
     "name": "stdout",
     "output_type": "stream",
     "text": [
      "Epoch 1/100\n"
     ]
    },
    {
     "name": "stdout",
     "output_type": "stream",
     "text": [
      "\u001b[1m312/312\u001b[0m \u001b[32m━━━━━━━━━━━━━━━━━━━━\u001b[0m\u001b[37m\u001b[0m \u001b[1m2s\u001b[0m 2ms/step - loss: 0.7158 - mae: 0.4461 - val_loss: 0.0510 - val_mae: 0.1457\n",
      "Epoch 2/100\n",
      "\u001b[1m312/312\u001b[0m \u001b[32m━━━━━━━━━━━━━━━━━━━━\u001b[0m\u001b[37m\u001b[0m \u001b[1m1s\u001b[0m 2ms/step - loss: 0.0392 - mae: 0.1276 - val_loss: 0.0263 - val_mae: 0.1004\n",
      "Epoch 3/100\n",
      "\u001b[1m312/312\u001b[0m \u001b[32m━━━━━━━━━━━━━━━━━━━━\u001b[0m\u001b[37m\u001b[0m \u001b[1m0s\u001b[0m 1ms/step - loss: 0.0234 - mae: 0.0950 - val_loss: 0.0197 - val_mae: 0.0837\n",
      "Epoch 4/100\n",
      "\u001b[1m312/312\u001b[0m \u001b[32m━━━━━━━━━━━━━━━━━━━━\u001b[0m\u001b[37m\u001b[0m \u001b[1m1s\u001b[0m 2ms/step - loss: 0.0176 - mae: 0.0805 - val_loss: 0.0166 - val_mae: 0.0744\n",
      "Epoch 5/100\n",
      "\u001b[1m312/312\u001b[0m \u001b[32m━━━━━━━━━━━━━━━━━━━━\u001b[0m\u001b[37m\u001b[0m \u001b[1m1s\u001b[0m 2ms/step - loss: 0.0157 - mae: 0.0727 - val_loss: 0.0148 - val_mae: 0.0724\n",
      "Epoch 6/100\n",
      "\u001b[1m312/312\u001b[0m \u001b[32m━━━━━━━━━━━━━━━━━━━━\u001b[0m\u001b[37m\u001b[0m \u001b[1m1s\u001b[0m 3ms/step - loss: 0.0160 - mae: 0.0724 - val_loss: 0.0135 - val_mae: 0.0657\n",
      "Epoch 7/100\n",
      "\u001b[1m312/312\u001b[0m \u001b[32m━━━━━━━━━━━━━━━━━━━━\u001b[0m\u001b[37m\u001b[0m \u001b[1m1s\u001b[0m 2ms/step - loss: 0.0115 - mae: 0.0608 - val_loss: 0.0132 - val_mae: 0.0636\n",
      "Epoch 8/100\n",
      "\u001b[1m312/312\u001b[0m \u001b[32m━━━━━━━━━━━━━━━━━━━━\u001b[0m\u001b[37m\u001b[0m \u001b[1m1s\u001b[0m 2ms/step - loss: 0.0110 - mae: 0.0585 - val_loss: 0.0119 - val_mae: 0.0595\n",
      "Epoch 9/100\n",
      "\u001b[1m312/312\u001b[0m \u001b[32m━━━━━━━━━━━━━━━━━━━━\u001b[0m\u001b[37m\u001b[0m \u001b[1m1s\u001b[0m 2ms/step - loss: 0.0106 - mae: 0.0569 - val_loss: 0.0117 - val_mae: 0.0645\n",
      "Epoch 10/100\n",
      "\u001b[1m312/312\u001b[0m \u001b[32m━━━━━━━━━━━━━━━━━━━━\u001b[0m\u001b[37m\u001b[0m \u001b[1m1s\u001b[0m 2ms/step - loss: 0.0095 - mae: 0.0544 - val_loss: 0.0101 - val_mae: 0.0552\n",
      "Epoch 11/100\n",
      "\u001b[1m312/312\u001b[0m \u001b[32m━━━━━━━━━━━━━━━━━━━━\u001b[0m\u001b[37m\u001b[0m \u001b[1m1s\u001b[0m 2ms/step - loss: 0.0092 - mae: 0.0524 - val_loss: 0.0095 - val_mae: 0.0519\n",
      "Epoch 12/100\n",
      "\u001b[1m312/312\u001b[0m \u001b[32m━━━━━━━━━━━━━━━━━━━━\u001b[0m\u001b[37m\u001b[0m \u001b[1m1s\u001b[0m 3ms/step - loss: 0.0085 - mae: 0.0509 - val_loss: 0.0092 - val_mae: 0.0511\n",
      "Epoch 13/100\n",
      "\u001b[1m312/312\u001b[0m \u001b[32m━━━━━━━━━━━━━━━━━━━━\u001b[0m\u001b[37m\u001b[0m \u001b[1m1s\u001b[0m 4ms/step - loss: 0.0087 - mae: 0.0505 - val_loss: 0.0092 - val_mae: 0.0515\n",
      "Epoch 14/100\n",
      "\u001b[1m312/312\u001b[0m \u001b[32m━━━━━━━━━━━━━━━━━━━━\u001b[0m\u001b[37m\u001b[0m \u001b[1m1s\u001b[0m 3ms/step - loss: 0.0079 - mae: 0.0479 - val_loss: 0.0080 - val_mae: 0.0459\n",
      "Epoch 15/100\n",
      "\u001b[1m312/312\u001b[0m \u001b[32m━━━━━━━━━━━━━━━━━━━━\u001b[0m\u001b[37m\u001b[0m \u001b[1m1s\u001b[0m 2ms/step - loss: 0.0077 - mae: 0.0474 - val_loss: 0.0083 - val_mae: 0.0493\n",
      "Epoch 16/100\n",
      "\u001b[1m312/312\u001b[0m \u001b[32m━━━━━━━━━━━━━━━━━━━━\u001b[0m\u001b[37m\u001b[0m \u001b[1m1s\u001b[0m 2ms/step - loss: 0.0073 - mae: 0.0463 - val_loss: 0.0085 - val_mae: 0.0489\n",
      "Epoch 17/100\n",
      "\u001b[1m312/312\u001b[0m \u001b[32m━━━━━━━━━━━━━━━━━━━━\u001b[0m\u001b[37m\u001b[0m \u001b[1m1s\u001b[0m 2ms/step - loss: 0.0067 - mae: 0.0440 - val_loss: 0.0077 - val_mae: 0.0453\n",
      "Epoch 18/100\n",
      "\u001b[1m312/312\u001b[0m \u001b[32m━━━━━━━━━━━━━━━━━━━━\u001b[0m\u001b[37m\u001b[0m \u001b[1m1s\u001b[0m 2ms/step - loss: 0.0068 - mae: 0.0446 - val_loss: 0.0075 - val_mae: 0.0441\n",
      "Epoch 19/100\n",
      "\u001b[1m312/312\u001b[0m \u001b[32m━━━━━━━━━━━━━━━━━━━━\u001b[0m\u001b[37m\u001b[0m \u001b[1m1s\u001b[0m 2ms/step - loss: 0.0066 - mae: 0.0432 - val_loss: 0.0074 - val_mae: 0.0444\n",
      "Epoch 20/100\n",
      "\u001b[1m312/312\u001b[0m \u001b[32m━━━━━━━━━━━━━━━━━━━━\u001b[0m\u001b[37m\u001b[0m \u001b[1m1s\u001b[0m 3ms/step - loss: 0.0065 - mae: 0.0422 - val_loss: 0.0078 - val_mae: 0.0459\n",
      "Epoch 21/100\n",
      "\u001b[1m312/312\u001b[0m \u001b[32m━━━━━━━━━━━━━━━━━━━━\u001b[0m\u001b[37m\u001b[0m \u001b[1m1s\u001b[0m 2ms/step - loss: 0.0063 - mae: 0.0425 - val_loss: 0.0070 - val_mae: 0.0443\n",
      "Epoch 22/100\n",
      "\u001b[1m312/312\u001b[0m \u001b[32m━━━━━━━━━━━━━━━━━━━━\u001b[0m\u001b[37m\u001b[0m \u001b[1m1s\u001b[0m 2ms/step - loss: 0.0061 - mae: 0.0415 - val_loss: 0.0076 - val_mae: 0.0465\n",
      "Epoch 23/100\n",
      "\u001b[1m312/312\u001b[0m \u001b[32m━━━━━━━━━━━━━━━━━━━━\u001b[0m\u001b[37m\u001b[0m \u001b[1m1s\u001b[0m 2ms/step - loss: 0.0062 - mae: 0.0421 - val_loss: 0.0065 - val_mae: 0.0411\n",
      "Epoch 24/100\n",
      "\u001b[1m312/312\u001b[0m \u001b[32m━━━━━━━━━━━━━━━━━━━━\u001b[0m\u001b[37m\u001b[0m \u001b[1m1s\u001b[0m 2ms/step - loss: 0.0057 - mae: 0.0394 - val_loss: 0.0068 - val_mae: 0.0409\n",
      "Epoch 25/100\n",
      "\u001b[1m312/312\u001b[0m \u001b[32m━━━━━━━━━━━━━━━━━━━━\u001b[0m\u001b[37m\u001b[0m \u001b[1m1s\u001b[0m 2ms/step - loss: 0.0053 - mae: 0.0386 - val_loss: 0.0062 - val_mae: 0.0380\n",
      "Epoch 26/100\n",
      "\u001b[1m312/312\u001b[0m \u001b[32m━━━━━━━━━━━━━━━━━━━━\u001b[0m\u001b[37m\u001b[0m \u001b[1m1s\u001b[0m 2ms/step - loss: 0.0053 - mae: 0.0374 - val_loss: 0.0065 - val_mae: 0.0402\n",
      "Epoch 27/100\n",
      "\u001b[1m312/312\u001b[0m \u001b[32m━━━━━━━━━━━━━━━━━━━━\u001b[0m\u001b[37m\u001b[0m \u001b[1m1s\u001b[0m 2ms/step - loss: 0.0056 - mae: 0.0385 - val_loss: 0.0064 - val_mae: 0.0400\n",
      "Epoch 28/100\n",
      "\u001b[1m312/312\u001b[0m \u001b[32m━━━━━━━━━━━━━━━━━━━━\u001b[0m\u001b[37m\u001b[0m \u001b[1m1s\u001b[0m 3ms/step - loss: 0.0051 - mae: 0.0375 - val_loss: 0.0056 - val_mae: 0.0365\n",
      "Epoch 29/100\n",
      "\u001b[1m312/312\u001b[0m \u001b[32m━━━━━━━━━━━━━━━━━━━━\u001b[0m\u001b[37m\u001b[0m \u001b[1m1s\u001b[0m 4ms/step - loss: 0.0049 - mae: 0.0358 - val_loss: 0.0064 - val_mae: 0.0402\n",
      "Epoch 30/100\n",
      "\u001b[1m312/312\u001b[0m \u001b[32m━━━━━━━━━━━━━━━━━━━━\u001b[0m\u001b[37m\u001b[0m \u001b[1m1s\u001b[0m 3ms/step - loss: 0.0051 - mae: 0.0362 - val_loss: 0.0058 - val_mae: 0.0376\n",
      "Epoch 31/100\n",
      "\u001b[1m312/312\u001b[0m \u001b[32m━━━━━━━━━━━━━━━━━━━━\u001b[0m\u001b[37m\u001b[0m \u001b[1m1s\u001b[0m 3ms/step - loss: 0.0051 - mae: 0.0358 - val_loss: 0.0075 - val_mae: 0.0449\n",
      "Epoch 32/100\n",
      "\u001b[1m312/312\u001b[0m \u001b[32m━━━━━━━━━━━━━━━━━━━━\u001b[0m\u001b[37m\u001b[0m \u001b[1m1s\u001b[0m 3ms/step - loss: 0.0055 - mae: 0.0383 - val_loss: 0.0057 - val_mae: 0.0372\n",
      "Epoch 33/100\n",
      "\u001b[1m312/312\u001b[0m \u001b[32m━━━━━━━━━━━━━━━━━━━━\u001b[0m\u001b[37m\u001b[0m \u001b[1m1s\u001b[0m 3ms/step - loss: 0.0047 - mae: 0.0345 - val_loss: 0.0056 - val_mae: 0.0350\n",
      "Epoch 34/100\n",
      "\u001b[1m312/312\u001b[0m \u001b[32m━━━━━━━━━━━━━━━━━━━━\u001b[0m\u001b[37m\u001b[0m \u001b[1m1s\u001b[0m 2ms/step - loss: 0.0049 - mae: 0.0351 - val_loss: 0.0064 - val_mae: 0.0409\n",
      "Epoch 35/100\n",
      "\u001b[1m312/312\u001b[0m \u001b[32m━━━━━━━━━━━━━━━━━━━━\u001b[0m\u001b[37m\u001b[0m \u001b[1m1s\u001b[0m 2ms/step - loss: 0.0047 - mae: 0.0347 - val_loss: 0.0054 - val_mae: 0.0351\n",
      "Epoch 36/100\n",
      "\u001b[1m312/312\u001b[0m \u001b[32m━━━━━━━━━━━━━━━━━━━━\u001b[0m\u001b[37m\u001b[0m \u001b[1m1s\u001b[0m 2ms/step - loss: 0.0041 - mae: 0.0322 - val_loss: 0.0055 - val_mae: 0.0346\n",
      "Epoch 37/100\n",
      "\u001b[1m312/312\u001b[0m \u001b[32m━━━━━━━━━━━━━━━━━━━━\u001b[0m\u001b[37m\u001b[0m \u001b[1m1s\u001b[0m 2ms/step - loss: 0.0046 - mae: 0.0338 - val_loss: 0.0054 - val_mae: 0.0361\n",
      "Epoch 38/100\n",
      "\u001b[1m312/312\u001b[0m \u001b[32m━━━━━━━━━━━━━━━━━━━━\u001b[0m\u001b[37m\u001b[0m \u001b[1m1s\u001b[0m 2ms/step - loss: 0.0043 - mae: 0.0334 - val_loss: 0.0055 - val_mae: 0.0348\n",
      "Epoch 39/100\n",
      "\u001b[1m312/312\u001b[0m \u001b[32m━━━━━━━━━━━━━━━━━━━━\u001b[0m\u001b[37m\u001b[0m \u001b[1m1s\u001b[0m 4ms/step - loss: 0.0043 - mae: 0.0330 - val_loss: 0.0052 - val_mae: 0.0335\n",
      "Epoch 40/100\n",
      "\u001b[1m312/312\u001b[0m \u001b[32m━━━━━━━━━━━━━━━━━━━━\u001b[0m\u001b[37m\u001b[0m \u001b[1m1s\u001b[0m 4ms/step - loss: 0.0041 - mae: 0.0318 - val_loss: 0.0057 - val_mae: 0.0369\n",
      "Epoch 41/100\n",
      "\u001b[1m312/312\u001b[0m \u001b[32m━━━━━━━━━━━━━━━━━━━━\u001b[0m\u001b[37m\u001b[0m \u001b[1m1s\u001b[0m 3ms/step - loss: 0.0043 - mae: 0.0331 - val_loss: 0.0054 - val_mae: 0.0369\n",
      "Epoch 42/100\n",
      "\u001b[1m312/312\u001b[0m \u001b[32m━━━━━━━━━━━━━━━━━━━━\u001b[0m\u001b[37m\u001b[0m \u001b[1m1s\u001b[0m 2ms/step - loss: 0.0044 - mae: 0.0330 - val_loss: 0.0047 - val_mae: 0.0303\n",
      "Epoch 43/100\n",
      "\u001b[1m312/312\u001b[0m \u001b[32m━━━━━━━━━━━━━━━━━━━━\u001b[0m\u001b[37m\u001b[0m \u001b[1m1s\u001b[0m 3ms/step - loss: 0.0042 - mae: 0.0320 - val_loss: 0.0054 - val_mae: 0.0355\n",
      "Epoch 44/100\n",
      "\u001b[1m312/312\u001b[0m \u001b[32m━━━━━━━━━━━━━━━━━━━━\u001b[0m\u001b[37m\u001b[0m \u001b[1m1s\u001b[0m 3ms/step - loss: 0.0041 - mae: 0.0324 - val_loss: 0.0049 - val_mae: 0.0319\n",
      "Epoch 45/100\n",
      "\u001b[1m312/312\u001b[0m \u001b[32m━━━━━━━━━━━━━━━━━━━━\u001b[0m\u001b[37m\u001b[0m \u001b[1m1s\u001b[0m 2ms/step - loss: 0.0037 - mae: 0.0302 - val_loss: 0.0049 - val_mae: 0.0324\n",
      "Epoch 46/100\n",
      "\u001b[1m312/312\u001b[0m \u001b[32m━━━━━━━━━━━━━━━━━━━━\u001b[0m\u001b[37m\u001b[0m \u001b[1m1s\u001b[0m 2ms/step - loss: 0.0043 - mae: 0.0320 - val_loss: 0.0049 - val_mae: 0.0322\n",
      "Epoch 47/100\n",
      "\u001b[1m312/312\u001b[0m \u001b[32m━━━━━━━━━━━━━━━━━━━━\u001b[0m\u001b[37m\u001b[0m \u001b[1m1s\u001b[0m 2ms/step - loss: 0.0042 - mae: 0.0318 - val_loss: 0.0052 - val_mae: 0.0351\n",
      "Epoch 48/100\n",
      "\u001b[1m312/312\u001b[0m \u001b[32m━━━━━━━━━━━━━━━━━━━━\u001b[0m\u001b[37m\u001b[0m \u001b[1m1s\u001b[0m 3ms/step - loss: 0.0044 - mae: 0.0319 - val_loss: 0.0049 - val_mae: 0.0325\n",
      "Epoch 49/100\n",
      "\u001b[1m312/312\u001b[0m \u001b[32m━━━━━━━━━━━━━━━━━━━━\u001b[0m\u001b[37m\u001b[0m \u001b[1m1s\u001b[0m 3ms/step - loss: 0.0042 - mae: 0.0314 - val_loss: 0.0049 - val_mae: 0.0321\n",
      "Epoch 50/100\n",
      "\u001b[1m312/312\u001b[0m \u001b[32m━━━━━━━━━━━━━━━━━━━━\u001b[0m\u001b[37m\u001b[0m \u001b[1m1s\u001b[0m 3ms/step - loss: 0.0039 - mae: 0.0311 - val_loss: 0.0052 - val_mae: 0.0347\n",
      "Epoch 51/100\n",
      "\u001b[1m312/312\u001b[0m \u001b[32m━━━━━━━━━━━━━━━━━━━━\u001b[0m\u001b[37m\u001b[0m \u001b[1m1s\u001b[0m 2ms/step - loss: 0.0037 - mae: 0.0294 - val_loss: 0.0047 - val_mae: 0.0328\n",
      "Epoch 52/100\n",
      "\u001b[1m312/312\u001b[0m \u001b[32m━━━━━━━━━━━━━━━━━━━━\u001b[0m\u001b[37m\u001b[0m \u001b[1m1s\u001b[0m 2ms/step - loss: 0.0035 - mae: 0.0295 - val_loss: 0.0049 - val_mae: 0.0313\n",
      "Epoch 53/100\n",
      "\u001b[1m312/312\u001b[0m \u001b[32m━━━━━━━━━━━━━━━━━━━━\u001b[0m\u001b[37m\u001b[0m \u001b[1m1s\u001b[0m 2ms/step - loss: 0.0037 - mae: 0.0293 - val_loss: 0.0045 - val_mae: 0.0298\n",
      "Epoch 54/100\n",
      "\u001b[1m312/312\u001b[0m \u001b[32m━━━━━━━━━━━━━━━━━━━━\u001b[0m\u001b[37m\u001b[0m \u001b[1m1s\u001b[0m 2ms/step - loss: 0.0037 - mae: 0.0298 - val_loss: 0.0050 - val_mae: 0.0343\n",
      "Epoch 55/100\n",
      "\u001b[1m312/312\u001b[0m \u001b[32m━━━━━━━━━━━━━━━━━━━━\u001b[0m\u001b[37m\u001b[0m \u001b[1m1s\u001b[0m 3ms/step - loss: 0.0040 - mae: 0.0307 - val_loss: 0.0046 - val_mae: 0.0303\n",
      "Epoch 56/100\n",
      "\u001b[1m312/312\u001b[0m \u001b[32m━━━━━━━━━━━━━━━━━━━━\u001b[0m\u001b[37m\u001b[0m \u001b[1m1s\u001b[0m 2ms/step - loss: 0.0038 - mae: 0.0302 - val_loss: 0.0052 - val_mae: 0.0343\n",
      "Epoch 57/100\n",
      "\u001b[1m312/312\u001b[0m \u001b[32m━━━━━━━━━━━━━━━━━━━━\u001b[0m\u001b[37m\u001b[0m \u001b[1m1s\u001b[0m 2ms/step - loss: 0.0040 - mae: 0.0312 - val_loss: 0.0044 - val_mae: 0.0293\n",
      "Epoch 58/100\n",
      "\u001b[1m312/312\u001b[0m \u001b[32m━━━━━━━━━━━━━━━━━━━━\u001b[0m\u001b[37m\u001b[0m \u001b[1m1s\u001b[0m 2ms/step - loss: 0.0035 - mae: 0.0284 - val_loss: 0.0044 - val_mae: 0.0297\n",
      "Epoch 59/100\n",
      "\u001b[1m312/312\u001b[0m \u001b[32m━━━━━━━━━━━━━━━━━━━━\u001b[0m\u001b[37m\u001b[0m \u001b[1m1s\u001b[0m 3ms/step - loss: 0.0039 - mae: 0.0305 - val_loss: 0.0048 - val_mae: 0.0326\n",
      "Epoch 60/100\n",
      "\u001b[1m312/312\u001b[0m \u001b[32m━━━━━━━━━━━━━━━━━━━━\u001b[0m\u001b[37m\u001b[0m \u001b[1m1s\u001b[0m 2ms/step - loss: 0.0036 - mae: 0.0288 - val_loss: 0.0040 - val_mae: 0.0275\n",
      "Epoch 61/100\n",
      "\u001b[1m312/312\u001b[0m \u001b[32m━━━━━━━━━━━━━━━━━━━━\u001b[0m\u001b[37m\u001b[0m \u001b[1m1s\u001b[0m 2ms/step - loss: 0.0033 - mae: 0.0277 - val_loss: 0.0046 - val_mae: 0.0318\n",
      "Epoch 62/100\n",
      "\u001b[1m312/312\u001b[0m \u001b[32m━━━━━━━━━━━━━━━━━━━━\u001b[0m\u001b[37m\u001b[0m \u001b[1m1s\u001b[0m 3ms/step - loss: 0.0033 - mae: 0.0283 - val_loss: 0.0044 - val_mae: 0.0307\n",
      "Epoch 63/100\n",
      "\u001b[1m312/312\u001b[0m \u001b[32m━━━━━━━━━━━━━━━━━━━━\u001b[0m\u001b[37m\u001b[0m \u001b[1m1s\u001b[0m 2ms/step - loss: 0.0034 - mae: 0.0281 - val_loss: 0.0045 - val_mae: 0.0299\n",
      "Epoch 64/100\n",
      "\u001b[1m312/312\u001b[0m \u001b[32m━━━━━━━━━━━━━━━━━━━━\u001b[0m\u001b[37m\u001b[0m \u001b[1m1s\u001b[0m 2ms/step - loss: 0.0035 - mae: 0.0283 - val_loss: 0.0047 - val_mae: 0.0318\n",
      "Epoch 65/100\n",
      "\u001b[1m312/312\u001b[0m \u001b[32m━━━━━━━━━━━━━━━━━━━━\u001b[0m\u001b[37m\u001b[0m \u001b[1m1s\u001b[0m 2ms/step - loss: 0.0035 - mae: 0.0288 - val_loss: 0.0049 - val_mae: 0.0301\n",
      "Epoch 66/100\n",
      "\u001b[1m312/312\u001b[0m \u001b[32m━━━━━━━━━━━━━━━━━━━━\u001b[0m\u001b[37m\u001b[0m \u001b[1m1s\u001b[0m 2ms/step - loss: 0.0034 - mae: 0.0274 - val_loss: 0.0046 - val_mae: 0.0312\n",
      "Epoch 67/100\n",
      "\u001b[1m312/312\u001b[0m \u001b[32m━━━━━━━━━━━━━━━━━━━━\u001b[0m\u001b[37m\u001b[0m \u001b[1m1s\u001b[0m 3ms/step - loss: 0.0034 - mae: 0.0284 - val_loss: 0.0046 - val_mae: 0.0305\n",
      "Epoch 68/100\n",
      "\u001b[1m312/312\u001b[0m \u001b[32m━━━━━━━━━━━━━━━━━━━━\u001b[0m\u001b[37m\u001b[0m \u001b[1m1s\u001b[0m 2ms/step - loss: 0.0032 - mae: 0.0276 - val_loss: 0.0044 - val_mae: 0.0297\n",
      "Epoch 69/100\n",
      "\u001b[1m312/312\u001b[0m \u001b[32m━━━━━━━━━━━━━━━━━━━━\u001b[0m\u001b[37m\u001b[0m \u001b[1m1s\u001b[0m 2ms/step - loss: 0.0031 - mae: 0.0269 - val_loss: 0.0048 - val_mae: 0.0340\n",
      "Epoch 70/100\n",
      "\u001b[1m312/312\u001b[0m \u001b[32m━━━━━━━━━━━━━━━━━━━━\u001b[0m\u001b[37m\u001b[0m \u001b[1m1s\u001b[0m 2ms/step - loss: 0.0034 - mae: 0.0280 - val_loss: 0.0046 - val_mae: 0.0323\n",
      "Epoch 71/100\n",
      "\u001b[1m312/312\u001b[0m \u001b[32m━━━━━━━━━━━━━━━━━━━━\u001b[0m\u001b[37m\u001b[0m \u001b[1m1s\u001b[0m 2ms/step - loss: 0.0032 - mae: 0.0272 - val_loss: 0.0043 - val_mae: 0.0284\n",
      "Epoch 72/100\n",
      "\u001b[1m312/312\u001b[0m \u001b[32m━━━━━━━━━━━━━━━━━━━━\u001b[0m\u001b[37m\u001b[0m \u001b[1m1s\u001b[0m 2ms/step - loss: 0.0030 - mae: 0.0261 - val_loss: 0.0041 - val_mae: 0.0280\n",
      "Epoch 73/100\n",
      "\u001b[1m312/312\u001b[0m \u001b[32m━━━━━━━━━━━━━━━━━━━━\u001b[0m\u001b[37m\u001b[0m \u001b[1m1s\u001b[0m 2ms/step - loss: 0.0032 - mae: 0.0270 - val_loss: 0.0042 - val_mae: 0.0287\n",
      "Epoch 74/100\n",
      "\u001b[1m312/312\u001b[0m \u001b[32m━━━━━━━━━━━━━━━━━━━━\u001b[0m\u001b[37m\u001b[0m \u001b[1m1s\u001b[0m 3ms/step - loss: 0.0031 - mae: 0.0268 - val_loss: 0.0045 - val_mae: 0.0302\n",
      "Epoch 75/100\n",
      "\u001b[1m312/312\u001b[0m \u001b[32m━━━━━━━━━━━━━━━━━━━━\u001b[0m\u001b[37m\u001b[0m \u001b[1m1s\u001b[0m 3ms/step - loss: 0.0035 - mae: 0.0284 - val_loss: 0.0040 - val_mae: 0.0281\n",
      "Epoch 76/100\n",
      "\u001b[1m312/312\u001b[0m \u001b[32m━━━━━━━━━━━━━━━━━━━━\u001b[0m\u001b[37m\u001b[0m \u001b[1m1s\u001b[0m 2ms/step - loss: 0.0029 - mae: 0.0261 - val_loss: 0.0042 - val_mae: 0.0288\n",
      "Epoch 77/100\n",
      "\u001b[1m312/312\u001b[0m \u001b[32m━━━━━━━━━━━━━━━━━━━━\u001b[0m\u001b[37m\u001b[0m \u001b[1m1s\u001b[0m 2ms/step - loss: 0.0030 - mae: 0.0261 - val_loss: 0.0041 - val_mae: 0.0278\n",
      "Epoch 78/100\n",
      "\u001b[1m312/312\u001b[0m \u001b[32m━━━━━━━━━━━━━━━━━━━━\u001b[0m\u001b[37m\u001b[0m \u001b[1m1s\u001b[0m 2ms/step - loss: 0.0032 - mae: 0.0266 - val_loss: 0.0046 - val_mae: 0.0313\n",
      "Epoch 79/100\n",
      "\u001b[1m312/312\u001b[0m \u001b[32m━━━━━━━━━━━━━━━━━━━━\u001b[0m\u001b[37m\u001b[0m \u001b[1m1s\u001b[0m 2ms/step - loss: 0.0033 - mae: 0.0269 - val_loss: 0.0039 - val_mae: 0.0264\n",
      "Epoch 80/100\n",
      "\u001b[1m312/312\u001b[0m \u001b[32m━━━━━━━━━━━━━━━━━━━━\u001b[0m\u001b[37m\u001b[0m \u001b[1m1s\u001b[0m 2ms/step - loss: 0.0031 - mae: 0.0267 - val_loss: 0.0039 - val_mae: 0.0270\n",
      "Epoch 81/100\n",
      "\u001b[1m312/312\u001b[0m \u001b[32m━━━━━━━━━━━━━━━━━━━━\u001b[0m\u001b[37m\u001b[0m \u001b[1m1s\u001b[0m 2ms/step - loss: 0.0031 - mae: 0.0264 - val_loss: 0.0040 - val_mae: 0.0277\n",
      "Epoch 82/100\n",
      "\u001b[1m312/312\u001b[0m \u001b[32m━━━━━━━━━━━━━━━━━━━━\u001b[0m\u001b[37m\u001b[0m \u001b[1m1s\u001b[0m 2ms/step - loss: 0.0027 - mae: 0.0246 - val_loss: 0.0039 - val_mae: 0.0266\n",
      "Epoch 83/100\n",
      "\u001b[1m312/312\u001b[0m \u001b[32m━━━━━━━━━━━━━━━━━━━━\u001b[0m\u001b[37m\u001b[0m \u001b[1m1s\u001b[0m 2ms/step - loss: 0.0029 - mae: 0.0255 - val_loss: 0.0046 - val_mae: 0.0287\n",
      "Epoch 84/100\n",
      "\u001b[1m312/312\u001b[0m \u001b[32m━━━━━━━━━━━━━━━━━━━━\u001b[0m\u001b[37m\u001b[0m \u001b[1m1s\u001b[0m 2ms/step - loss: 0.0028 - mae: 0.0250 - val_loss: 0.0042 - val_mae: 0.0303\n",
      "Epoch 85/100\n",
      "\u001b[1m312/312\u001b[0m \u001b[32m━━━━━━━━━━━━━━━━━━━━\u001b[0m\u001b[37m\u001b[0m \u001b[1m1s\u001b[0m 2ms/step - loss: 0.0030 - mae: 0.0259 - val_loss: 0.0038 - val_mae: 0.0265\n",
      "Epoch 86/100\n",
      "\u001b[1m312/312\u001b[0m \u001b[32m━━━━━━━━━━━━━━━━━━━━\u001b[0m\u001b[37m\u001b[0m \u001b[1m1s\u001b[0m 2ms/step - loss: 0.0030 - mae: 0.0259 - val_loss: 0.0039 - val_mae: 0.0275\n",
      "Epoch 87/100\n",
      "\u001b[1m312/312\u001b[0m \u001b[32m━━━━━━━━━━━━━━━━━━━━\u001b[0m\u001b[37m\u001b[0m \u001b[1m1s\u001b[0m 2ms/step - loss: 0.0029 - mae: 0.0260 - val_loss: 0.0042 - val_mae: 0.0296\n",
      "Epoch 88/100\n",
      "\u001b[1m312/312\u001b[0m \u001b[32m━━━━━━━━━━━━━━━━━━━━\u001b[0m\u001b[37m\u001b[0m \u001b[1m1s\u001b[0m 2ms/step - loss: 0.0031 - mae: 0.0266 - val_loss: 0.0038 - val_mae: 0.0265\n",
      "Epoch 89/100\n",
      "\u001b[1m312/312\u001b[0m \u001b[32m━━━━━━━━━━━━━━━━━━━━\u001b[0m\u001b[37m\u001b[0m \u001b[1m1s\u001b[0m 2ms/step - loss: 0.0028 - mae: 0.0254 - val_loss: 0.0036 - val_mae: 0.0252\n",
      "Epoch 90/100\n",
      "\u001b[1m312/312\u001b[0m \u001b[32m━━━━━━━━━━━━━━━━━━━━\u001b[0m\u001b[37m\u001b[0m \u001b[1m1s\u001b[0m 2ms/step - loss: 0.0027 - mae: 0.0247 - val_loss: 0.0038 - val_mae: 0.0266\n",
      "Epoch 91/100\n",
      "\u001b[1m312/312\u001b[0m \u001b[32m━━━━━━━━━━━━━━━━━━━━\u001b[0m\u001b[37m\u001b[0m \u001b[1m1s\u001b[0m 2ms/step - loss: 0.0028 - mae: 0.0250 - val_loss: 0.0038 - val_mae: 0.0258\n",
      "Epoch 92/100\n",
      "\u001b[1m312/312\u001b[0m \u001b[32m━━━━━━━━━━━━━━━━━━━━\u001b[0m\u001b[37m\u001b[0m \u001b[1m1s\u001b[0m 3ms/step - loss: 0.0029 - mae: 0.0259 - val_loss: 0.0039 - val_mae: 0.0267\n",
      "Epoch 93/100\n",
      "\u001b[1m312/312\u001b[0m \u001b[32m━━━━━━━━━━━━━━━━━━━━\u001b[0m\u001b[37m\u001b[0m \u001b[1m1s\u001b[0m 2ms/step - loss: 0.0028 - mae: 0.0261 - val_loss: 0.0037 - val_mae: 0.0244\n",
      "Epoch 94/100\n",
      "\u001b[1m312/312\u001b[0m \u001b[32m━━━━━━━━━━━━━━━━━━━━\u001b[0m\u001b[37m\u001b[0m \u001b[1m1s\u001b[0m 2ms/step - loss: 0.0028 - mae: 0.0251 - val_loss: 0.0036 - val_mae: 0.0254\n",
      "Epoch 95/100\n",
      "\u001b[1m312/312\u001b[0m \u001b[32m━━━━━━━━━━━━━━━━━━━━\u001b[0m\u001b[37m\u001b[0m \u001b[1m1s\u001b[0m 2ms/step - loss: 0.0032 - mae: 0.0265 - val_loss: 0.0040 - val_mae: 0.0276\n",
      "Epoch 96/100\n",
      "\u001b[1m312/312\u001b[0m \u001b[32m━━━━━━━━━━━━━━━━━━━━\u001b[0m\u001b[37m\u001b[0m \u001b[1m1s\u001b[0m 2ms/step - loss: 0.0030 - mae: 0.0257 - val_loss: 0.0039 - val_mae: 0.0276\n",
      "Epoch 97/100\n",
      "\u001b[1m312/312\u001b[0m \u001b[32m━━━━━━━━━━━━━━━━━━━━\u001b[0m\u001b[37m\u001b[0m \u001b[1m1s\u001b[0m 3ms/step - loss: 0.0027 - mae: 0.0245 - val_loss: 0.0039 - val_mae: 0.0274\n",
      "Epoch 98/100\n",
      "\u001b[1m312/312\u001b[0m \u001b[32m━━━━━━━━━━━━━━━━━━━━\u001b[0m\u001b[37m\u001b[0m \u001b[1m1s\u001b[0m 2ms/step - loss: 0.0029 - mae: 0.0253 - val_loss: 0.0038 - val_mae: 0.0258\n",
      "Epoch 99/100\n",
      "\u001b[1m312/312\u001b[0m \u001b[32m━━━━━━━━━━━━━━━━━━━━\u001b[0m\u001b[37m\u001b[0m \u001b[1m1s\u001b[0m 5ms/step - loss: 0.0029 - mae: 0.0250 - val_loss: 0.0041 - val_mae: 0.0245\n",
      "Epoch 100/100\n",
      "\u001b[1m312/312\u001b[0m \u001b[32m━━━━━━━━━━━━━━━━━━━━\u001b[0m\u001b[37m\u001b[0m \u001b[1m1s\u001b[0m 2ms/step - loss: 0.0027 - mae: 0.0241 - val_loss: 0.0037 - val_mae: 0.0262\n"
     ]
    },
    {
     "data": {
      "text/plain": [
       "<keras.src.callbacks.history.History at 0x1ea537572c0>"
      ]
     },
     "execution_count": 43,
     "metadata": {},
     "output_type": "execute_result"
    }
   ],
   "source": [
    "model.fit(X_train, y_train, epochs=100, batch_size=32, validation_split=0.2, verbose=1)"
   ]
  },
  {
   "cell_type": "code",
   "execution_count": null,
   "id": "d027fbb8",
   "metadata": {},
   "outputs": [
    {
     "name": "stdout",
     "output_type": "stream",
     "text": [
      "\u001b[1m1/1\u001b[0m \u001b[32m━━━━━━━━━━━━━━━━━━━━\u001b[0m\u001b[37m\u001b[0m \u001b[1m0s\u001b[0m 47ms/step\n",
      "[-148.41876   -37.56597  2197.0686   2635.457     -33.483864]\n",
      "Predicted outputs:\n",
      "Braking: -148.41876\n",
      "Clutch: -37.56597\n",
      "Gear: 2197.0686\n",
      "Steering: 2635.457\n",
      "Acceleration: -33.483864\n"
     ]
    },
    {
     "name": "stderr",
     "output_type": "stream",
     "text": [
      "c:\\Users\\Pc\\anaconda3\\Lib\\site-packages\\sklearn\\base.py:493: UserWarning: X does not have valid feature names, but StandardScaler was fitted with feature names\n",
      "  warnings.warn(\n"
     ]
    }
   ],
   "source": [
    "# Example single sample for prediction\n",
    "sample_data = [[-1.00787E-4,34.206,0.0,1545.23,1549.23,92.8378,4,0.0,200.0,200.0,200.0,196.511,200.0,200.0,200.0,200.0,200.0,200.0,200.0,200.0,200.0,200.0,200.0,200.0,200.0,200.0,200.0,200.0,200.0,200.0,200.0,200.0,200.0,200.0,200.0,200.0,200.0,200.0,200.0,200.0,200.0,200.0,200.0,200.0,1,8289.75,192.203,-6.49205,3.53352,3.17882,3.29412,4.19034,5.70653,10.5383,16.633,79.7683,62.3312,50.9192,48.4277,46.0765,37.9989,30.4697,25.0886,21.1987,14.4222,11.2478,9.10999,8.82118,0.470197,162.039,159.93,167.623,167.314]]\n",
    "\n",
    "# Convert to numpy array\n",
    "sample_data = np.array(sample_data)\n",
    "\n",
    "# Apply the same scaler that was used for training data\n",
    "scaled_sample = scaler.transform(sample_data)\n",
    "\n",
    "# Make prediction\n",
    "prediction = model.predict(scaled_sample)\n",
    "print(prediction.flatten())\n",
    "\n",
    "# Print the predicted outputs\n",
    "print(\"Predicted outputs:\")\n",
    "print(\"Acceleration:\", prediction[0][0])\n",
    "print(\"Braking:\", prediction[0][1])\n",
    "print(\"Clutch:\", prediction[0][2])\n",
    "print(\"Gear:\", prediction[0][3])\n",
    "print(\"Steering:\", prediction[0][4])"
   ]
  },
  {
   "cell_type": "code",
   "execution_count": 44,
   "id": "30ebb5ba",
   "metadata": {},
   "outputs": [
    {
     "name": "stdout",
     "output_type": "stream",
     "text": [
      "\u001b[1m1/1\u001b[0m \u001b[32m━━━━━━━━━━━━━━━━━━━━\u001b[0m\u001b[37m\u001b[0m \u001b[1m0s\u001b[0m 63ms/step\n",
      "Predicted outputs for test data:\n",
      "Acceleration: 0.93807304\n",
      "Braking: 0.02528542\n",
      "Clutch: 0.66060776\n",
      "Gear: 1.1113911\n",
      "Steering: -0.021719463\n"
     ]
    }
   ],
   "source": [
    "prediction = model.predict(X_test[0].reshape(1, -1))\n",
    "print(\"Predicted outputs for test data:\")\n",
    "print(\"Acceleration:\", prediction[0][0])\n",
    "print(\"Braking:\", prediction[0][1])\n",
    "print(\"Clutch:\", prediction[0][2])\n",
    "print(\"Gear:\", prediction[0][3])\n",
    "print(\"Steering:\", prediction[0][4])\n"
   ]
  },
  {
   "cell_type": "code",
   "execution_count": 22,
   "id": "569b7c38",
   "metadata": {},
   "outputs": [
    {
     "data": {
      "text/plain": [
       "73"
      ]
     },
     "execution_count": 22,
     "metadata": {},
     "output_type": "execute_result"
    }
   ],
   "source": [
    "len(sample_data[0])"
   ]
  },
  {
   "cell_type": "code",
   "execution_count": null,
   "id": "9c8aba37",
   "metadata": {},
   "outputs": [],
   "source": []
  }
 ],
 "metadata": {
  "kernelspec": {
   "display_name": "base",
   "language": "python",
   "name": "python3"
  },
  "language_info": {
   "codemirror_mode": {
    "name": "ipython",
    "version": 3
   },
   "file_extension": ".py",
   "mimetype": "text/x-python",
   "name": "python",
   "nbconvert_exporter": "python",
   "pygments_lexer": "ipython3",
   "version": "3.12.4"
  }
 },
 "nbformat": 4,
 "nbformat_minor": 5
}
