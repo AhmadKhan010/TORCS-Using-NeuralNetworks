{
 "cells": [
  {
   "cell_type": "markdown",
   "id": "601a68e3",
   "metadata": {},
   "source": [
    "# AI PROJECT\n",
    "## Training AI car to race in TORCS using neural networks\n"
   ]
  },
  {
   "cell_type": "markdown",
   "id": "8f8fdf4a",
   "metadata": {},
   "source": [
    "## Group Members:"
   ]
  },
  {
   "cell_type": "markdown",
   "id": "9ac66ab8",
   "metadata": {},
   "source": []
  },
  {
   "cell_type": "code",
   "execution_count": 1,
   "id": "2f2b4972",
   "metadata": {},
   "outputs": [],
   "source": [
    "import pandas as pd\n",
    "import numpy as np\n",
    "from tensorflow.keras.models import Sequential\n",
    "from tensorflow.keras.layers import Dense, Activation, Dropout\n",
    "from tensorflow.keras.optimizers import Adam\n",
    "from sklearn.model_selection import train_test_split\n",
    "from sklearn.preprocessing import StandardScaler"
   ]
  },
  {
   "cell_type": "code",
   "execution_count": 2,
   "id": "367deece",
   "metadata": {},
   "outputs": [
    {
     "data": {
      "text/html": [
       "<div>\n",
       "<style scoped>\n",
       "    .dataframe tbody tr th:only-of-type {\n",
       "        vertical-align: middle;\n",
       "    }\n",
       "\n",
       "    .dataframe tbody tr th {\n",
       "        vertical-align: top;\n",
       "    }\n",
       "\n",
       "    .dataframe thead th {\n",
       "        text-align: right;\n",
       "    }\n",
       "</style>\n",
       "<table border=\"1\" class=\"dataframe\">\n",
       "  <thead>\n",
       "    <tr style=\"text-align: right;\">\n",
       "      <th></th>\n",
       "      <th>Angle</th>\n",
       "      <th>CurrentLapTime</th>\n",
       "      <th>Damage</th>\n",
       "      <th>DistanceFromStart</th>\n",
       "      <th>DistanceCovered</th>\n",
       "      <th>FuelLevel</th>\n",
       "      <th>Gear</th>\n",
       "      <th>LastLapTime</th>\n",
       "      <th>Opponent_1</th>\n",
       "      <th>Opponent_2</th>\n",
       "      <th>...</th>\n",
       "      <th>WheelSpinVelocity_1</th>\n",
       "      <th>WheelSpinVelocity_2</th>\n",
       "      <th>WheelSpinVelocity_3</th>\n",
       "      <th>WheelSpinVelocity_4</th>\n",
       "      <th>Z</th>\n",
       "      <th>Acceleration</th>\n",
       "      <th>Braking</th>\n",
       "      <th>Clutch</th>\n",
       "      <th>Gear</th>\n",
       "      <th>Steering</th>\n",
       "    </tr>\n",
       "  </thead>\n",
       "  <tbody>\n",
       "    <tr>\n",
       "      <th>0</th>\n",
       "      <td>0.0</td>\n",
       "      <td>-0.982</td>\n",
       "      <td>0.0</td>\n",
       "      <td>6201.46</td>\n",
       "      <td>0.0</td>\n",
       "      <td>94.0000</td>\n",
       "      <td>0</td>\n",
       "      <td>0.0</td>\n",
       "      <td>16.9999</td>\n",
       "      <td>200.0</td>\n",
       "      <td>...</td>\n",
       "      <td>0.0</td>\n",
       "      <td>0.0</td>\n",
       "      <td>0.0</td>\n",
       "      <td>0.0</td>\n",
       "      <td>0.345263</td>\n",
       "      <td>1.0</td>\n",
       "      <td>0.0</td>\n",
       "      <td>0.64</td>\n",
       "      <td>1</td>\n",
       "      <td>-0.028559</td>\n",
       "    </tr>\n",
       "    <tr>\n",
       "      <th>1</th>\n",
       "      <td>0.0</td>\n",
       "      <td>-0.962</td>\n",
       "      <td>0.0</td>\n",
       "      <td>6201.46</td>\n",
       "      <td>0.0</td>\n",
       "      <td>94.0000</td>\n",
       "      <td>0</td>\n",
       "      <td>0.0</td>\n",
       "      <td>16.9999</td>\n",
       "      <td>200.0</td>\n",
       "      <td>...</td>\n",
       "      <td>0.0</td>\n",
       "      <td>0.0</td>\n",
       "      <td>0.0</td>\n",
       "      <td>0.0</td>\n",
       "      <td>0.345263</td>\n",
       "      <td>1.0</td>\n",
       "      <td>0.0</td>\n",
       "      <td>0.64</td>\n",
       "      <td>1</td>\n",
       "      <td>-0.028559</td>\n",
       "    </tr>\n",
       "    <tr>\n",
       "      <th>2</th>\n",
       "      <td>0.0</td>\n",
       "      <td>-0.942</td>\n",
       "      <td>0.0</td>\n",
       "      <td>6201.46</td>\n",
       "      <td>0.0</td>\n",
       "      <td>93.9999</td>\n",
       "      <td>0</td>\n",
       "      <td>0.0</td>\n",
       "      <td>16.9999</td>\n",
       "      <td>200.0</td>\n",
       "      <td>...</td>\n",
       "      <td>0.0</td>\n",
       "      <td>0.0</td>\n",
       "      <td>0.0</td>\n",
       "      <td>0.0</td>\n",
       "      <td>0.345263</td>\n",
       "      <td>1.0</td>\n",
       "      <td>0.0</td>\n",
       "      <td>0.64</td>\n",
       "      <td>1</td>\n",
       "      <td>-0.028559</td>\n",
       "    </tr>\n",
       "    <tr>\n",
       "      <th>3</th>\n",
       "      <td>0.0</td>\n",
       "      <td>-0.922</td>\n",
       "      <td>0.0</td>\n",
       "      <td>6201.46</td>\n",
       "      <td>0.0</td>\n",
       "      <td>93.9998</td>\n",
       "      <td>0</td>\n",
       "      <td>0.0</td>\n",
       "      <td>16.9999</td>\n",
       "      <td>200.0</td>\n",
       "      <td>...</td>\n",
       "      <td>0.0</td>\n",
       "      <td>0.0</td>\n",
       "      <td>0.0</td>\n",
       "      <td>0.0</td>\n",
       "      <td>0.345263</td>\n",
       "      <td>1.0</td>\n",
       "      <td>0.0</td>\n",
       "      <td>0.64</td>\n",
       "      <td>1</td>\n",
       "      <td>-0.028559</td>\n",
       "    </tr>\n",
       "    <tr>\n",
       "      <th>4</th>\n",
       "      <td>0.0</td>\n",
       "      <td>-0.902</td>\n",
       "      <td>0.0</td>\n",
       "      <td>6201.46</td>\n",
       "      <td>0.0</td>\n",
       "      <td>93.9997</td>\n",
       "      <td>0</td>\n",
       "      <td>0.0</td>\n",
       "      <td>16.9999</td>\n",
       "      <td>200.0</td>\n",
       "      <td>...</td>\n",
       "      <td>0.0</td>\n",
       "      <td>0.0</td>\n",
       "      <td>0.0</td>\n",
       "      <td>0.0</td>\n",
       "      <td>0.345263</td>\n",
       "      <td>1.0</td>\n",
       "      <td>0.0</td>\n",
       "      <td>0.64</td>\n",
       "      <td>1</td>\n",
       "      <td>-0.028559</td>\n",
       "    </tr>\n",
       "  </tbody>\n",
       "</table>\n",
       "<p>5 rows × 79 columns</p>\n",
       "</div>"
      ],
      "text/plain": [
       "   Angle   CurrentLapTime   Damage   DistanceFromStart   DistanceCovered  \\\n",
       "0    0.0           -0.982      0.0             6201.46               0.0   \n",
       "1    0.0           -0.962      0.0             6201.46               0.0   \n",
       "2    0.0           -0.942      0.0             6201.46               0.0   \n",
       "3    0.0           -0.922      0.0             6201.46               0.0   \n",
       "4    0.0           -0.902      0.0             6201.46               0.0   \n",
       "\n",
       "    FuelLevel   Gear   LastLapTime   Opponent_1  Opponent_2  ...  \\\n",
       "0     94.0000      0           0.0      16.9999       200.0  ...   \n",
       "1     94.0000      0           0.0      16.9999       200.0  ...   \n",
       "2     93.9999      0           0.0      16.9999       200.0  ...   \n",
       "3     93.9998      0           0.0      16.9999       200.0  ...   \n",
       "4     93.9997      0           0.0      16.9999       200.0  ...   \n",
       "\n",
       "    WheelSpinVelocity_1  WheelSpinVelocity_2  WheelSpinVelocity_3  \\\n",
       "0                   0.0                  0.0                  0.0   \n",
       "1                   0.0                  0.0                  0.0   \n",
       "2                   0.0                  0.0                  0.0   \n",
       "3                   0.0                  0.0                  0.0   \n",
       "4                   0.0                  0.0                  0.0   \n",
       "\n",
       "   WheelSpinVelocity_4         Z   Acceleration  Braking  Clutch  Gear  \\\n",
       "0                  0.0  0.345263            1.0      0.0    0.64     1   \n",
       "1                  0.0  0.345263            1.0      0.0    0.64     1   \n",
       "2                  0.0  0.345263            1.0      0.0    0.64     1   \n",
       "3                  0.0  0.345263            1.0      0.0    0.64     1   \n",
       "4                  0.0  0.345263            1.0      0.0    0.64     1   \n",
       "\n",
       "   Steering  \n",
       "0 -0.028559  \n",
       "1 -0.028559  \n",
       "2 -0.028559  \n",
       "3 -0.028559  \n",
       "4 -0.028559  \n",
       "\n",
       "[5 rows x 79 columns]"
      ]
     },
     "execution_count": 2,
     "metadata": {},
     "output_type": "execute_result"
    }
   ],
   "source": [
    "#Load the dataset\n",
    "df = pd.read_csv('combined_data.csv')\n",
    "df.head()"
   ]
  },
  {
   "cell_type": "code",
   "execution_count": 3,
   "id": "4d4ad6f8",
   "metadata": {},
   "outputs": [
    {
     "data": {
      "text/plain": [
       "['Angle',\n",
       " 'CurrentLapTime',\n",
       " 'Damage',\n",
       " 'DistanceFromStart',\n",
       " 'DistanceCovered',\n",
       " 'FuelLevel',\n",
       " 'Gear',\n",
       " 'LastLapTime',\n",
       " 'Opponent_1',\n",
       " 'Opponent_2',\n",
       " 'Opponent_3',\n",
       " 'Opponent_4',\n",
       " 'Opponent_5',\n",
       " 'Opponent_6',\n",
       " 'Opponent_7',\n",
       " 'Opponent_8',\n",
       " 'Opponent_9',\n",
       " 'Opponent_10',\n",
       " 'Opponent_11',\n",
       " 'Opponent_12',\n",
       " 'Opponent_13',\n",
       " 'Opponent_14',\n",
       " 'Opponent_15',\n",
       " 'Opponent_16',\n",
       " 'Opponent_17',\n",
       " 'Opponent_18',\n",
       " 'Opponent_19',\n",
       " 'Opponent_20',\n",
       " 'Opponent_21',\n",
       " 'Opponent_22',\n",
       " 'Opponent_23',\n",
       " 'Opponent_24',\n",
       " 'Opponent_25',\n",
       " 'Opponent_26',\n",
       " 'Opponent_27',\n",
       " 'Opponent_28',\n",
       " 'Opponent_29',\n",
       " 'Opponent_30',\n",
       " 'Opponent_31',\n",
       " 'Opponent_32',\n",
       " 'Opponent_33',\n",
       " 'Opponent_34',\n",
       " 'Opponent_35',\n",
       " 'Opponent_36',\n",
       " 'RacePosition',\n",
       " 'RPM',\n",
       " 'SpeedX',\n",
       " 'SpeedY',\n",
       " 'SpeedZ',\n",
       " 'Track_1',\n",
       " 'Track_2',\n",
       " 'Track_3',\n",
       " 'Track_4',\n",
       " 'Track_5',\n",
       " 'Track_6',\n",
       " 'Track_7',\n",
       " 'Track_8',\n",
       " 'Track_9',\n",
       " 'Track_10',\n",
       " 'Track_11',\n",
       " 'Track_12',\n",
       " 'Track_13',\n",
       " 'Track_14',\n",
       " 'Track_15',\n",
       " 'Track_16',\n",
       " 'Track_17',\n",
       " 'Track_18',\n",
       " 'Track_19',\n",
       " 'TrackPosition',\n",
       " 'WheelSpinVelocity_1',\n",
       " 'WheelSpinVelocity_2',\n",
       " 'WheelSpinVelocity_3',\n",
       " 'WheelSpinVelocity_4',\n",
       " 'Z',\n",
       " 'Acceleration',\n",
       " 'Braking',\n",
       " 'Clutch',\n",
       " 'Gear',\n",
       " 'Steering']"
      ]
     },
     "execution_count": 3,
     "metadata": {},
     "output_type": "execute_result"
    }
   ],
   "source": [
    "# Strip trailing spaces from column names\n",
    "df.columns = [col.strip() for col in df.columns]\n",
    "df.columns.tolist()"
   ]
  },
  {
   "cell_type": "code",
   "execution_count": 4,
   "id": "ba0fa77f",
   "metadata": {},
   "outputs": [
    {
     "data": {
      "text/plain": [
       "(176437, 79)"
      ]
     },
     "execution_count": 4,
     "metadata": {},
     "output_type": "execute_result"
    }
   ],
   "source": [
    "#Shape of DataFrame\n",
    "df.shape"
   ]
  },
  {
   "cell_type": "code",
   "execution_count": null,
   "id": "f5d1a3c7",
   "metadata": {},
   "outputs": [],
   "source": []
  },
  {
   "cell_type": "code",
   "execution_count": null,
   "id": "5c4c8ee1",
   "metadata": {},
   "outputs": [
    {
     "data": {
      "text/html": [
       "<div>\n",
       "<style scoped>\n",
       "    .dataframe tbody tr th:only-of-type {\n",
       "        vertical-align: middle;\n",
       "    }\n",
       "\n",
       "    .dataframe tbody tr th {\n",
       "        vertical-align: top;\n",
       "    }\n",
       "\n",
       "    .dataframe thead th {\n",
       "        text-align: right;\n",
       "    }\n",
       "</style>\n",
       "<table border=\"1\" class=\"dataframe\">\n",
       "  <thead>\n",
       "    <tr style=\"text-align: right;\">\n",
       "      <th></th>\n",
       "      <th>Angle</th>\n",
       "      <th>CurrentLapTime</th>\n",
       "      <th>Damage</th>\n",
       "      <th>DistanceFromStart</th>\n",
       "      <th>DistanceCovered</th>\n",
       "      <th>FuelLevel</th>\n",
       "      <th>Gear</th>\n",
       "      <th>LastLapTime</th>\n",
       "      <th>Opponent_1</th>\n",
       "      <th>Opponent_2</th>\n",
       "      <th>...</th>\n",
       "      <th>WheelSpinVelocity_1</th>\n",
       "      <th>WheelSpinVelocity_2</th>\n",
       "      <th>WheelSpinVelocity_3</th>\n",
       "      <th>WheelSpinVelocity_4</th>\n",
       "      <th>Z</th>\n",
       "      <th>Acceleration</th>\n",
       "      <th>Braking</th>\n",
       "      <th>Clutch</th>\n",
       "      <th>Gear</th>\n",
       "      <th>Steering</th>\n",
       "    </tr>\n",
       "  </thead>\n",
       "  <tbody>\n",
       "    <tr>\n",
       "      <th>0</th>\n",
       "      <td>0.038905</td>\n",
       "      <td>36.206</td>\n",
       "      <td>3.0</td>\n",
       "      <td>1105.29</td>\n",
       "      <td>1220.250000</td>\n",
       "      <td>54.5903</td>\n",
       "      <td>4</td>\n",
       "      <td>0.000</td>\n",
       "      <td>200.0</td>\n",
       "      <td>200.0</td>\n",
       "      <td>...</td>\n",
       "      <td>121.45400</td>\n",
       "      <td>120.79500</td>\n",
       "      <td>121.47200</td>\n",
       "      <td>120.85200</td>\n",
       "      <td>0.321642</td>\n",
       "      <td>0.341759</td>\n",
       "      <td>0.0</td>\n",
       "      <td>0.000</td>\n",
       "      <td>4</td>\n",
       "      <td>0.008182</td>\n",
       "    </tr>\n",
       "    <tr>\n",
       "      <th>1</th>\n",
       "      <td>-0.043363</td>\n",
       "      <td>73.600</td>\n",
       "      <td>4391.0</td>\n",
       "      <td>1127.72</td>\n",
       "      <td>3003.650000</td>\n",
       "      <td>56.0194</td>\n",
       "      <td>3</td>\n",
       "      <td>125.706</td>\n",
       "      <td>200.0</td>\n",
       "      <td>200.0</td>\n",
       "      <td>...</td>\n",
       "      <td>88.37010</td>\n",
       "      <td>88.39190</td>\n",
       "      <td>88.67770</td>\n",
       "      <td>88.09270</td>\n",
       "      <td>0.344850</td>\n",
       "      <td>0.000000</td>\n",
       "      <td>0.0</td>\n",
       "      <td>0.000</td>\n",
       "      <td>3</td>\n",
       "      <td>-0.224291</td>\n",
       "    </tr>\n",
       "    <tr>\n",
       "      <th>2</th>\n",
       "      <td>0.034884</td>\n",
       "      <td>75.074</td>\n",
       "      <td>0.0</td>\n",
       "      <td>1172.78</td>\n",
       "      <td>1287.770000</td>\n",
       "      <td>49.9267</td>\n",
       "      <td>1</td>\n",
       "      <td>0.000</td>\n",
       "      <td>200.0</td>\n",
       "      <td>200.0</td>\n",
       "      <td>...</td>\n",
       "      <td>69.67710</td>\n",
       "      <td>69.27890</td>\n",
       "      <td>69.67940</td>\n",
       "      <td>69.28560</td>\n",
       "      <td>0.474639</td>\n",
       "      <td>1.000000</td>\n",
       "      <td>0.0</td>\n",
       "      <td>0.475</td>\n",
       "      <td>1</td>\n",
       "      <td>0.034809</td>\n",
       "    </tr>\n",
       "    <tr>\n",
       "      <th>3</th>\n",
       "      <td>0.001033</td>\n",
       "      <td>0.280</td>\n",
       "      <td>0.0</td>\n",
       "      <td>6201.81</td>\n",
       "      <td>0.351074</td>\n",
       "      <td>93.9729</td>\n",
       "      <td>1</td>\n",
       "      <td>0.000</td>\n",
       "      <td>200.0</td>\n",
       "      <td>200.0</td>\n",
       "      <td>...</td>\n",
       "      <td>7.90839</td>\n",
       "      <td>7.91359</td>\n",
       "      <td>9.80411</td>\n",
       "      <td>9.07698</td>\n",
       "      <td>0.345635</td>\n",
       "      <td>1.000000</td>\n",
       "      <td>0.0</td>\n",
       "      <td>0.640</td>\n",
       "      <td>1</td>\n",
       "      <td>-0.028148</td>\n",
       "    </tr>\n",
       "    <tr>\n",
       "      <th>4</th>\n",
       "      <td>-0.027877</td>\n",
       "      <td>6.230</td>\n",
       "      <td>0.0</td>\n",
       "      <td>4162.37</td>\n",
       "      <td>68.999000</td>\n",
       "      <td>49.9446</td>\n",
       "      <td>2</td>\n",
       "      <td>0.000</td>\n",
       "      <td>200.0</td>\n",
       "      <td>200.0</td>\n",
       "      <td>...</td>\n",
       "      <td>69.41360</td>\n",
       "      <td>69.30790</td>\n",
       "      <td>65.30790</td>\n",
       "      <td>65.38390</td>\n",
       "      <td>0.474598</td>\n",
       "      <td>1.000000</td>\n",
       "      <td>0.0</td>\n",
       "      <td>0.000</td>\n",
       "      <td>2</td>\n",
       "      <td>-0.019737</td>\n",
       "    </tr>\n",
       "  </tbody>\n",
       "</table>\n",
       "<p>5 rows × 79 columns</p>\n",
       "</div>"
      ],
      "text/plain": [
       "      Angle  CurrentLapTime  Damage  DistanceFromStart  DistanceCovered  \\\n",
       "0  0.038905          36.206     3.0            1105.29      1220.250000   \n",
       "1 -0.043363          73.600  4391.0            1127.72      3003.650000   \n",
       "2  0.034884          75.074     0.0            1172.78      1287.770000   \n",
       "3  0.001033           0.280     0.0            6201.81         0.351074   \n",
       "4 -0.027877           6.230     0.0            4162.37        68.999000   \n",
       "\n",
       "   FuelLevel  Gear  LastLapTime  Opponent_1  Opponent_2  ...  \\\n",
       "0    54.5903     4        0.000       200.0       200.0  ...   \n",
       "1    56.0194     3      125.706       200.0       200.0  ...   \n",
       "2    49.9267     1        0.000       200.0       200.0  ...   \n",
       "3    93.9729     1        0.000       200.0       200.0  ...   \n",
       "4    49.9446     2        0.000       200.0       200.0  ...   \n",
       "\n",
       "   WheelSpinVelocity_1  WheelSpinVelocity_2  WheelSpinVelocity_3  \\\n",
       "0            121.45400            120.79500            121.47200   \n",
       "1             88.37010             88.39190             88.67770   \n",
       "2             69.67710             69.27890             69.67940   \n",
       "3              7.90839              7.91359              9.80411   \n",
       "4             69.41360             69.30790             65.30790   \n",
       "\n",
       "   WheelSpinVelocity_4         Z  Acceleration  Braking  Clutch  Gear  \\\n",
       "0            120.85200  0.321642      0.341759      0.0   0.000     4   \n",
       "1             88.09270  0.344850      0.000000      0.0   0.000     3   \n",
       "2             69.28560  0.474639      1.000000      0.0   0.475     1   \n",
       "3              9.07698  0.345635      1.000000      0.0   0.640     1   \n",
       "4             65.38390  0.474598      1.000000      0.0   0.000     2   \n",
       "\n",
       "   Steering  \n",
       "0  0.008182  \n",
       "1 -0.224291  \n",
       "2  0.034809  \n",
       "3 -0.028148  \n",
       "4 -0.019737  \n",
       "\n",
       "[5 rows x 79 columns]"
      ]
     },
     "execution_count": 26,
     "metadata": {},
     "output_type": "execute_result"
    }
   ],
   "source": [
    "\n",
    "df.head()"
   ]
  },
  {
   "cell_type": "code",
   "execution_count": 5,
   "id": "db82ecf4",
   "metadata": {},
   "outputs": [
    {
     "data": {
      "text/plain": [
       "(   Angle  CurrentLapTime  Damage  DistanceFromStart  DistanceCovered  \\\n",
       " 0    0.0          -0.982     0.0            6201.46              0.0   \n",
       " 1    0.0          -0.962     0.0            6201.46              0.0   \n",
       " 2    0.0          -0.942     0.0            6201.46              0.0   \n",
       " 3    0.0          -0.922     0.0            6201.46              0.0   \n",
       " 4    0.0          -0.902     0.0            6201.46              0.0   \n",
       " \n",
       "    FuelLevel  LastLapTime  Opponent_1  Opponent_2  Opponent_3  ...  Track_16  \\\n",
       " 0    94.0000          0.0     16.9999       200.0       200.0  ...   13.9476   \n",
       " 1    94.0000          0.0     16.9999       200.0       200.0  ...   13.9476   \n",
       " 2    93.9999          0.0     16.9999       200.0       200.0  ...   13.9476   \n",
       " 3    93.9998          0.0     16.9999       200.0       200.0  ...   13.9476   \n",
       " 4    93.9997          0.0     16.9999       200.0       200.0  ...   13.9476   \n",
       " \n",
       "    Track_17  Track_18  Track_19  TrackPosition  WheelSpinVelocity_1  \\\n",
       " 0   10.4433    8.2822   7.99999       0.333332                  0.0   \n",
       " 1   10.4433    8.2822   7.99999       0.333332                  0.0   \n",
       " 2   10.4433    8.2822   7.99999       0.333332                  0.0   \n",
       " 3   10.4433    8.2822   7.99999       0.333332                  0.0   \n",
       " 4   10.4433    8.2822   7.99999       0.333332                  0.0   \n",
       " \n",
       "    WheelSpinVelocity_2  WheelSpinVelocity_3  WheelSpinVelocity_4         Z  \n",
       " 0                  0.0                  0.0                  0.0  0.345263  \n",
       " 1                  0.0                  0.0                  0.0  0.345263  \n",
       " 2                  0.0                  0.0                  0.0  0.345263  \n",
       " 3                  0.0                  0.0                  0.0  0.345263  \n",
       " 4                  0.0                  0.0                  0.0  0.345263  \n",
       " \n",
       " [5 rows x 73 columns],\n",
       "    Acceleration  Braking  Clutch  Steering\n",
       " 0           1.0      0.0    0.64 -0.028559\n",
       " 1           1.0      0.0    0.64 -0.028559\n",
       " 2           1.0      0.0    0.64 -0.028559\n",
       " 3           1.0      0.0    0.64 -0.028559\n",
       " 4           1.0      0.0    0.64 -0.028559)"
      ]
     },
     "execution_count": 5,
     "metadata": {},
     "output_type": "execute_result"
    }
   ],
   "source": [
    "X = df.drop(columns=['Acceleration', 'Braking','Clutch', 'Gear', 'Steering'])\n",
    "y = df[['Acceleration', 'Braking','Clutch', 'Steering']]\n",
    "X.head(), y.head()"
   ]
  },
  {
   "cell_type": "code",
   "execution_count": 6,
   "id": "ffb228ce",
   "metadata": {},
   "outputs": [
    {
     "data": {
      "text/plain": [
       "(176437, 4)"
      ]
     },
     "execution_count": 6,
     "metadata": {},
     "output_type": "execute_result"
    }
   ],
   "source": [
    "y.shape"
   ]
  },
  {
   "cell_type": "code",
   "execution_count": null,
   "id": "c5ee9053",
   "metadata": {},
   "outputs": [],
   "source": []
  },
  {
   "cell_type": "code",
   "execution_count": null,
   "id": "a44c9ddf",
   "metadata": {},
   "outputs": [],
   "source": []
  },
  {
   "cell_type": "code",
   "execution_count": 7,
   "id": "0962f89d",
   "metadata": {},
   "outputs": [
    {
     "data": {
      "text/plain": [
       "array([[-0.05706978, -1.30079194, -0.86052732, ..., -1.72669027,\n",
       "        -1.72723789, -0.66799698],\n",
       "       [-0.05706978, -1.3002641 , -0.86052732, ..., -1.72669027,\n",
       "        -1.72723789, -0.66799698],\n",
       "       [-0.05706978, -1.29973627, -0.86052732, ..., -1.72669027,\n",
       "        -1.72723789, -0.66799698],\n",
       "       ...,\n",
       "       [-0.03102186,  0.76559071, -0.85920578, ...,  0.98542726,\n",
       "         0.98485141, -0.85497871],\n",
       "       [-0.03100488,  0.76611854, -0.85920578, ...,  0.98553849,\n",
       "         0.98320581, -0.85678956],\n",
       "       [-0.03102186,  0.76664638, -0.85920578, ...,  0.98682879,\n",
       "         0.98494036, -0.85497097]])"
      ]
     },
     "execution_count": 7,
     "metadata": {},
     "output_type": "execute_result"
    }
   ],
   "source": [
    "#Scale the data\n",
    "scaler = StandardScaler()\n",
    "X_scaled = scaler.fit_transform(X)\n",
    "X_scaled  "
   ]
  },
  {
   "cell_type": "code",
   "execution_count": 8,
   "id": "a0efc3d1",
   "metadata": {},
   "outputs": [
    {
     "data": {
      "text/plain": [
       "((141149, 73), (35288, 73), (141149, 4), (35288, 4))"
      ]
     },
     "execution_count": 8,
     "metadata": {},
     "output_type": "execute_result"
    }
   ],
   "source": [
    "#Split the data into training and testing sets\n",
    "X_train, X_test, y_train, y_test = train_test_split(X_scaled, y, test_size=0.2, random_state=42)\n",
    "X_train.shape, X_test.shape, y_train.shape, y_test.shape"
   ]
  },
  {
   "cell_type": "code",
   "execution_count": 9,
   "id": "83fcacb2",
   "metadata": {},
   "outputs": [
    {
     "name": "stdout",
     "output_type": "stream",
     "text": [
      "(35288, 4)\n",
      "[[ 1.33041770e-03  0.00000000e+00  4.74999994e-01 -7.60235712e-02]\n",
      " [ 0.00000000e+00  0.00000000e+00  0.00000000e+00  3.57791744e-02]\n",
      " [ 1.00000000e+00  0.00000000e+00  4.74999994e-01  6.30383438e-04]\n",
      " [ 0.00000000e+00  0.00000000e+00  0.00000000e+00  1.83448792e-02]\n",
      " [ 1.00000000e+00  0.00000000e+00  0.00000000e+00  2.44415686e-01]]\n"
     ]
    }
   ],
   "source": [
    "# Ytest is datafram so convert to array\n",
    "y_test = y_test.values\n",
    "print(y_test.shape)\n",
    "print(y_test[0:5])\n"
   ]
  },
  {
   "cell_type": "code",
   "execution_count": null,
   "id": "429c6508",
   "metadata": {},
   "outputs": [],
   "source": [
    "#Drop 4th column of y_test\n",
    "# y_test = np.delete(y_test, 3, axis=1)\n",
    "# print(y_test.shape)\n",
    "# print(y_test[0:5])\n"
   ]
  },
  {
   "cell_type": "code",
   "execution_count": null,
   "id": "5abb423a",
   "metadata": {},
   "outputs": [],
   "source": [
    "# y_train = np.delete(y_train, 3, axis=1)\n",
    "# print(y_train.shape)\n",
    "# print(y_train[0:5])"
   ]
  },
  {
   "cell_type": "code",
   "execution_count": 10,
   "id": "ded4d1f2",
   "metadata": {},
   "outputs": [
    {
     "name": "stdout",
     "output_type": "stream",
     "text": [
      "[[-6.42613472e-02  1.24006485e+00 -8.60527324e-01  2.12521226e+00\n",
      "   6.27126048e-01  2.17907905e+00 -7.47318180e-01  3.07024616e-01\n",
      "   2.43482261e-01  2.22043998e-01 -3.05538603e+00  1.88709309e-01\n",
      "   1.88346063e-01  1.90079032e-01  1.91869364e-01  1.77798093e-01\n",
      "   1.82558963e-01  1.85880941e-01  1.93584994e-01  2.01260128e-01\n",
      "   2.15439006e-01  2.40782543e-01  2.76913187e-01  2.76730765e-01\n",
      "   5.01599323e-01  5.10772971e-01  2.21038372e-01  2.01451583e-01\n",
      "   1.70278833e-01  1.59082392e-01  1.48145920e-01  1.40273600e-01\n",
      "   1.57076070e-01  1.52929082e-01  1.53747211e-01  1.52462131e-01\n",
      "   1.54361048e-01  1.80467933e-01  1.96740027e-01  1.92806191e-01\n",
      "   2.29863338e-01  2.64481830e-01 -1.36753158e+00 -2.43758666e+00\n",
      "   2.04049262e+00  3.29812923e+00 -5.60278161e-02  9.39463585e-02\n",
      "   2.49091449e-03 -1.78736917e-02 -4.05482380e-02 -6.87274847e-02\n",
      "  -5.53781703e-02 -2.13344690e-02 -3.93804485e-02  6.20705697e-02\n",
      "   1.58156664e+00  1.56199128e+00  1.47447999e+00  3.58451108e-01\n",
      "   1.42017118e-01  1.58302859e-01  1.38146470e-01  9.37069473e-02\n",
      "   7.79217126e-02  5.92826788e-02  7.36879574e-02  3.53070002e-02\n",
      "   3.24305971e+00  3.27332646e+00  3.30476027e+00  3.30726607e+00\n",
      "  -9.83587652e-01]\n",
      " [ 3.69803955e-01  2.64988554e-01  2.30190374e-01 -6.22410019e-01\n",
      "  -7.33606865e-01 -6.69840348e-03 -7.47318180e-01  3.07024616e-01\n",
      "   2.43482261e-01  2.22043998e-01  1.93710127e-01  1.88709309e-01\n",
      "   1.88346063e-01  1.90079032e-01  1.91869364e-01  1.77798093e-01\n",
      "   1.82558963e-01 -6.56764533e+00 -4.67577586e+00 -4.39597386e+00\n",
      "   2.15439006e-01  2.40782543e-01  2.76913187e-01  2.76730765e-01\n",
      "   5.01599323e-01 -2.39044289e+00 -5.61018608e+00  2.01451583e-01\n",
      "   1.70278833e-01  1.59082392e-01  1.48145920e-01  1.40273600e-01\n",
      "  -8.90018701e+00  1.52929082e-01  1.53747211e-01  1.52462131e-01\n",
      "   1.54361048e-01  1.80467933e-01  1.96740027e-01  1.92806191e-01\n",
      "   2.29863338e-01 -3.68262414e+00  3.07747203e-01 -4.67099594e-01\n",
      "   4.02460342e-01 -6.38655610e-01  5.78286160e-01  5.00724914e-02\n",
      "  -3.43605650e-01 -3.06817205e-01 -2.39994014e-01 -1.52863222e-01\n",
      "   1.10865496e-01  4.25131123e-01  8.36188229e-01 -1.84818348e-01\n",
      "  -6.48287999e-01 -6.95336115e-01 -7.22963002e-01 -7.82943262e-01\n",
      "  -5.55165212e-01 -3.81065059e-01 -3.11673431e-01 -2.08164979e-01\n",
      "  -1.60478619e-01 -1.00907756e-01 -5.75517154e-02  1.30393726e-01\n",
      "  -5.10305038e-01 -5.36731249e-01 -3.62556018e-01 -3.79534676e-01\n",
      "  -5.90410946e-02]\n",
      " [-1.34458682e-01 -1.23201457e+00 -8.60527324e-01  1.66952767e+00\n",
      "  -1.04769389e+00 -4.88098434e-01 -7.47318180e-01  3.07024616e-01\n",
      "   2.43482261e-01  2.22043998e-01  1.93710127e-01  1.88709309e-01\n",
      "   1.88346063e-01  1.90079032e-01  1.91869364e-01  1.77798093e-01\n",
      "   1.82558963e-01  1.85880941e-01  1.93584994e-01  2.01260128e-01\n",
      "   2.15439006e-01  2.40782543e-01  2.76913187e-01 -4.22957715e+00\n",
      "  -2.20521510e+00 -2.32633052e+00  2.21038372e-01  2.01451583e-01\n",
      "   1.70278833e-01  1.59082392e-01  1.48145920e-01  1.40273600e-01\n",
      "   1.57076070e-01  1.52929082e-01  1.53747211e-01  1.52462131e-01\n",
      "   1.54361048e-01  1.80467933e-01  1.96740027e-01  1.92806191e-01\n",
      "   2.29863338e-01  2.64481830e-01  3.07747203e-01  5.18143940e-01\n",
      "  -1.92801070e+00 -1.39358675e+00 -8.78972164e-02  8.58650466e-02\n",
      "   5.94397296e-01  5.28416666e-01  4.73325176e-01  3.41772707e-01\n",
      "   3.51803168e-01  3.63860390e-01  2.28108067e-01  2.59149508e-01\n",
      "   1.58156664e+00  1.56199128e+00  1.55887670e+00  3.22739030e-02\n",
      "  -2.73456446e-01 -2.74960786e-01 -3.01316221e-01 -3.31608891e-01\n",
      "  -3.48922897e-01 -3.38899726e-01 -3.30068316e-01 -5.21208896e-01\n",
      "  -1.40979532e+00 -1.38549779e+00 -1.41515003e+00 -1.41231593e+00\n",
      "   3.39616453e-01]\n",
      " [ 6.98230810e-01 -1.01570657e+00  2.75563525e-01 -8.65778146e-01\n",
      "   6.24157878e-01 -5.95092281e-01  1.53393141e+00  3.07024616e-01\n",
      "   2.43482261e-01  2.22043998e-01  1.93710127e-01  1.88709309e-01\n",
      "   1.88346063e-01  1.90079032e-01  1.91869364e-01  1.77798093e-01\n",
      "   1.82558963e-01  1.85880941e-01  1.93584994e-01  2.01260128e-01\n",
      "   2.15439006e-01  2.40782543e-01  2.76913187e-01  2.76730765e-01\n",
      "   5.01599323e-01  5.10772971e-01  2.21038372e-01  2.01451583e-01\n",
      "   1.70278833e-01  1.59082392e-01  1.48145920e-01  1.40273600e-01\n",
      "   1.57076070e-01  1.52929082e-01  1.53747211e-01  1.52462131e-01\n",
      "   1.54361048e-01  1.80467933e-01  1.96740027e-01  1.92806191e-01\n",
      "   2.29863338e-01  2.64481830e-01  3.07747203e-01  5.18143940e-01\n",
      "  -7.81717174e-01  4.02183454e-01 -3.90446712e+00  5.15835669e-01\n",
      "  -1.44314690e-02  8.85375837e-02  7.91004806e-01  7.09227036e+00\n",
      "   1.24126381e+00  1.76085986e-01 -4.47716830e-01 -9.62855476e-01\n",
      "  -1.11141251e+00 -1.13146772e+00 -1.12125341e+00 -1.15060404e+00\n",
      "  -8.58734953e-01 -6.12983602e-01 -4.74280842e-01 -2.14632215e-01\n",
      "  -7.63496551e-02  5.61650151e-02  1.27980385e-01  8.49951202e-02\n",
      "   7.83082030e-02 -2.35676696e-01  3.73748119e-01  3.15646411e-01\n",
      "   3.33502904e-01]\n",
      " [-7.28357872e-01 -5.44663113e-01 -8.60527324e-01 -4.48315489e-01\n",
      "   1.50092985e+00  2.11776229e+00  1.07881433e+00  3.07024616e-01\n",
      "   2.43482261e-01 -5.14076371e+00  1.93710127e-01  1.88709309e-01\n",
      "   1.88346063e-01  1.90079032e-01  1.91869364e-01  1.77798093e-01\n",
      "   1.82558963e-01  1.85880941e-01  1.93584994e-01  2.01260128e-01\n",
      "   2.15439006e-01  2.40782543e-01  2.76913187e-01  2.76730765e-01\n",
      "   5.01599323e-01  5.10772971e-01  2.21038372e-01  2.01451583e-01\n",
      "   1.70278833e-01  1.59082392e-01  1.48145920e-01  1.40273600e-01\n",
      "   1.57076070e-01  1.52929082e-01  1.53747211e-01  1.52462131e-01\n",
      "   1.54361048e-01  1.80467933e-01  1.96740027e-01 -9.34489427e-01\n",
      "   2.29863338e-01  2.64481830e-01 -3.00012853e+00 -2.43758666e+00\n",
      "   5.58573217e-01  5.45777107e-05 -1.19138929e-01  3.18813783e-01\n",
      "   5.77172728e-01  4.32763310e-01  2.37283253e-01  4.50987786e-02\n",
      "  -1.53787324e-01 -2.49158296e-01 -3.57785346e-01  6.10753662e-01\n",
      "  -1.92260454e-01 -2.53548073e-01 -2.88919653e-01  4.83129084e-02\n",
      "   5.55134588e-01  6.81306166e-01  4.90423680e-01 -1.75117416e-02\n",
      "  -1.67096035e-01 -2.60086861e-01 -2.85705237e-01 -4.75864441e-01\n",
      "  -3.28970983e-02 -3.56806862e-02 -4.68072866e-03 -1.19133480e-02\n",
      "  -6.95237096e-01]]\n",
      "(141149, 73)\n"
     ]
    }
   ],
   "source": [
    "# Check X_train:\n",
    "print(X_train[0:5])\n",
    "print(X_train.shape)\n"
   ]
  },
  {
   "cell_type": "code",
   "execution_count": null,
   "id": "200a2868",
   "metadata": {},
   "outputs": [],
   "source": []
  },
  {
   "cell_type": "code",
   "execution_count": 11,
   "id": "150c6fde",
   "metadata": {},
   "outputs": [
    {
     "name": "stderr",
     "output_type": "stream",
     "text": [
      "c:\\Users\\Zestro\\anaconda3\\Lib\\site-packages\\keras\\src\\layers\\core\\dense.py:87: UserWarning: Do not pass an `input_shape`/`input_dim` argument to a layer. When using Sequential models, prefer using an `Input(shape)` object as the first layer in the model instead.\n",
      "  super().__init__(activity_regularizer=activity_regularizer, **kwargs)\n"
     ]
    }
   ],
   "source": [
    "model = Sequential()\n",
    "model.add(Dense(512, input_dim=73, activation='relu',kernel_initializer='he_normal'))\n",
    "model.add(Dense(128, activation='relu',kernel_initializer='he_normal'))\n",
    "model.add(Dense(64, activation='relu',kernel_initializer='he_normal'))\n",
    "model.add(Dropout(0.2))  # Dropout layer to prevent overfitting\n",
    "model.add(Dense(32, activation='relu',kernel_initializer='he_normal'))\n",
    "#Output layer with 3 neurons for 3 outputs\n",
    "model.add(Dense(4, activation='linear',kernel_initializer='he_normal'))\n",
    "\n",
    "model.compile(optimizer=Adam(learning_rate=0.007), loss='mean_squared_error', metrics=['mae'])\n"
   ]
  },
  {
   "cell_type": "code",
   "execution_count": 12,
   "id": "de41c2ad",
   "metadata": {},
   "outputs": [
    {
     "data": {
      "text/html": [
       "<pre style=\"white-space:pre;overflow-x:auto;line-height:normal;font-family:Menlo,'DejaVu Sans Mono',consolas,'Courier New',monospace\"><span style=\"font-weight: bold\">Model: \"sequential\"</span>\n",
       "</pre>\n"
      ],
      "text/plain": [
       "\u001b[1mModel: \"sequential\"\u001b[0m\n"
      ]
     },
     "metadata": {},
     "output_type": "display_data"
    },
    {
     "data": {
      "text/html": [
       "<pre style=\"white-space:pre;overflow-x:auto;line-height:normal;font-family:Menlo,'DejaVu Sans Mono',consolas,'Courier New',monospace\">┏━━━━━━━━━━━━━━━━━━━━━━━━━━━━━━━━━┳━━━━━━━━━━━━━━━━━━━━━━━━┳━━━━━━━━━━━━━━━┓\n",
       "┃<span style=\"font-weight: bold\"> Layer (type)                    </span>┃<span style=\"font-weight: bold\"> Output Shape           </span>┃<span style=\"font-weight: bold\">       Param # </span>┃\n",
       "┡━━━━━━━━━━━━━━━━━━━━━━━━━━━━━━━━━╇━━━━━━━━━━━━━━━━━━━━━━━━╇━━━━━━━━━━━━━━━┩\n",
       "│ dense (<span style=\"color: #0087ff; text-decoration-color: #0087ff\">Dense</span>)                   │ (<span style=\"color: #00d7ff; text-decoration-color: #00d7ff\">None</span>, <span style=\"color: #00af00; text-decoration-color: #00af00\">512</span>)            │        <span style=\"color: #00af00; text-decoration-color: #00af00\">37,888</span> │\n",
       "├─────────────────────────────────┼────────────────────────┼───────────────┤\n",
       "│ dense_1 (<span style=\"color: #0087ff; text-decoration-color: #0087ff\">Dense</span>)                 │ (<span style=\"color: #00d7ff; text-decoration-color: #00d7ff\">None</span>, <span style=\"color: #00af00; text-decoration-color: #00af00\">128</span>)            │        <span style=\"color: #00af00; text-decoration-color: #00af00\">65,664</span> │\n",
       "├─────────────────────────────────┼────────────────────────┼───────────────┤\n",
       "│ dense_2 (<span style=\"color: #0087ff; text-decoration-color: #0087ff\">Dense</span>)                 │ (<span style=\"color: #00d7ff; text-decoration-color: #00d7ff\">None</span>, <span style=\"color: #00af00; text-decoration-color: #00af00\">64</span>)             │         <span style=\"color: #00af00; text-decoration-color: #00af00\">8,256</span> │\n",
       "├─────────────────────────────────┼────────────────────────┼───────────────┤\n",
       "│ dropout (<span style=\"color: #0087ff; text-decoration-color: #0087ff\">Dropout</span>)               │ (<span style=\"color: #00d7ff; text-decoration-color: #00d7ff\">None</span>, <span style=\"color: #00af00; text-decoration-color: #00af00\">64</span>)             │             <span style=\"color: #00af00; text-decoration-color: #00af00\">0</span> │\n",
       "├─────────────────────────────────┼────────────────────────┼───────────────┤\n",
       "│ dense_3 (<span style=\"color: #0087ff; text-decoration-color: #0087ff\">Dense</span>)                 │ (<span style=\"color: #00d7ff; text-decoration-color: #00d7ff\">None</span>, <span style=\"color: #00af00; text-decoration-color: #00af00\">32</span>)             │         <span style=\"color: #00af00; text-decoration-color: #00af00\">2,080</span> │\n",
       "├─────────────────────────────────┼────────────────────────┼───────────────┤\n",
       "│ dense_4 (<span style=\"color: #0087ff; text-decoration-color: #0087ff\">Dense</span>)                 │ (<span style=\"color: #00d7ff; text-decoration-color: #00d7ff\">None</span>, <span style=\"color: #00af00; text-decoration-color: #00af00\">4</span>)              │           <span style=\"color: #00af00; text-decoration-color: #00af00\">132</span> │\n",
       "└─────────────────────────────────┴────────────────────────┴───────────────┘\n",
       "</pre>\n"
      ],
      "text/plain": [
       "┏━━━━━━━━━━━━━━━━━━━━━━━━━━━━━━━━━┳━━━━━━━━━━━━━━━━━━━━━━━━┳━━━━━━━━━━━━━━━┓\n",
       "┃\u001b[1m \u001b[0m\u001b[1mLayer (type)                   \u001b[0m\u001b[1m \u001b[0m┃\u001b[1m \u001b[0m\u001b[1mOutput Shape          \u001b[0m\u001b[1m \u001b[0m┃\u001b[1m \u001b[0m\u001b[1m      Param #\u001b[0m\u001b[1m \u001b[0m┃\n",
       "┡━━━━━━━━━━━━━━━━━━━━━━━━━━━━━━━━━╇━━━━━━━━━━━━━━━━━━━━━━━━╇━━━━━━━━━━━━━━━┩\n",
       "│ dense (\u001b[38;5;33mDense\u001b[0m)                   │ (\u001b[38;5;45mNone\u001b[0m, \u001b[38;5;34m512\u001b[0m)            │        \u001b[38;5;34m37,888\u001b[0m │\n",
       "├─────────────────────────────────┼────────────────────────┼───────────────┤\n",
       "│ dense_1 (\u001b[38;5;33mDense\u001b[0m)                 │ (\u001b[38;5;45mNone\u001b[0m, \u001b[38;5;34m128\u001b[0m)            │        \u001b[38;5;34m65,664\u001b[0m │\n",
       "├─────────────────────────────────┼────────────────────────┼───────────────┤\n",
       "│ dense_2 (\u001b[38;5;33mDense\u001b[0m)                 │ (\u001b[38;5;45mNone\u001b[0m, \u001b[38;5;34m64\u001b[0m)             │         \u001b[38;5;34m8,256\u001b[0m │\n",
       "├─────────────────────────────────┼────────────────────────┼───────────────┤\n",
       "│ dropout (\u001b[38;5;33mDropout\u001b[0m)               │ (\u001b[38;5;45mNone\u001b[0m, \u001b[38;5;34m64\u001b[0m)             │             \u001b[38;5;34m0\u001b[0m │\n",
       "├─────────────────────────────────┼────────────────────────┼───────────────┤\n",
       "│ dense_3 (\u001b[38;5;33mDense\u001b[0m)                 │ (\u001b[38;5;45mNone\u001b[0m, \u001b[38;5;34m32\u001b[0m)             │         \u001b[38;5;34m2,080\u001b[0m │\n",
       "├─────────────────────────────────┼────────────────────────┼───────────────┤\n",
       "│ dense_4 (\u001b[38;5;33mDense\u001b[0m)                 │ (\u001b[38;5;45mNone\u001b[0m, \u001b[38;5;34m4\u001b[0m)              │           \u001b[38;5;34m132\u001b[0m │\n",
       "└─────────────────────────────────┴────────────────────────┴───────────────┘\n"
      ]
     },
     "metadata": {},
     "output_type": "display_data"
    },
    {
     "data": {
      "text/html": [
       "<pre style=\"white-space:pre;overflow-x:auto;line-height:normal;font-family:Menlo,'DejaVu Sans Mono',consolas,'Courier New',monospace\"><span style=\"font-weight: bold\"> Total params: </span><span style=\"color: #00af00; text-decoration-color: #00af00\">114,020</span> (445.39 KB)\n",
       "</pre>\n"
      ],
      "text/plain": [
       "\u001b[1m Total params: \u001b[0m\u001b[38;5;34m114,020\u001b[0m (445.39 KB)\n"
      ]
     },
     "metadata": {},
     "output_type": "display_data"
    },
    {
     "data": {
      "text/html": [
       "<pre style=\"white-space:pre;overflow-x:auto;line-height:normal;font-family:Menlo,'DejaVu Sans Mono',consolas,'Courier New',monospace\"><span style=\"font-weight: bold\"> Trainable params: </span><span style=\"color: #00af00; text-decoration-color: #00af00\">114,020</span> (445.39 KB)\n",
       "</pre>\n"
      ],
      "text/plain": [
       "\u001b[1m Trainable params: \u001b[0m\u001b[38;5;34m114,020\u001b[0m (445.39 KB)\n"
      ]
     },
     "metadata": {},
     "output_type": "display_data"
    },
    {
     "data": {
      "text/html": [
       "<pre style=\"white-space:pre;overflow-x:auto;line-height:normal;font-family:Menlo,'DejaVu Sans Mono',consolas,'Courier New',monospace\"><span style=\"font-weight: bold\"> Non-trainable params: </span><span style=\"color: #00af00; text-decoration-color: #00af00\">0</span> (0.00 B)\n",
       "</pre>\n"
      ],
      "text/plain": [
       "\u001b[1m Non-trainable params: \u001b[0m\u001b[38;5;34m0\u001b[0m (0.00 B)\n"
      ]
     },
     "metadata": {},
     "output_type": "display_data"
    }
   ],
   "source": [
    "model.summary()"
   ]
  },
  {
   "cell_type": "code",
   "execution_count": 13,
   "id": "af822c7a",
   "metadata": {},
   "outputs": [],
   "source": [
    "#Use EarlyStopping to prevent overfitting\n",
    "from tensorflow.keras.callbacks import EarlyStopping\n",
    "\n",
    "early_stopping = EarlyStopping(\n",
    "    monitor='val_loss',\n",
    "    patience=10,\n",
    "    restore_best_weights=True\n",
    ")\n"
   ]
  },
  {
   "cell_type": "code",
   "execution_count": 14,
   "id": "367a9e93",
   "metadata": {},
   "outputs": [
    {
     "name": "stdout",
     "output_type": "stream",
     "text": [
      "Epoch 1/100\n",
      "\u001b[1m552/552\u001b[0m \u001b[32m━━━━━━━━━━━━━━━━━━━━\u001b[0m\u001b[37m\u001b[0m \u001b[1m3s\u001b[0m 3ms/step - loss: 0.2880 - mae: 0.2189 - val_loss: 0.0276 - val_mae: 0.1022\n",
      "Epoch 2/100\n",
      "\u001b[1m552/552\u001b[0m \u001b[32m━━━━━━━━━━━━━━━━━━━━\u001b[0m\u001b[37m\u001b[0m \u001b[1m1s\u001b[0m 3ms/step - loss: 0.0244 - mae: 0.0853 - val_loss: 0.0260 - val_mae: 0.0976\n",
      "Epoch 3/100\n",
      "\u001b[1m552/552\u001b[0m \u001b[32m━━━━━━━━━━━━━━━━━━━━\u001b[0m\u001b[37m\u001b[0m \u001b[1m2s\u001b[0m 3ms/step - loss: 0.0197 - mae: 0.0725 - val_loss: 0.0194 - val_mae: 0.0800\n",
      "Epoch 4/100\n",
      "\u001b[1m552/552\u001b[0m \u001b[32m━━━━━━━━━━━━━━━━━━━━\u001b[0m\u001b[37m\u001b[0m \u001b[1m2s\u001b[0m 3ms/step - loss: 0.0178 - mae: 0.0670 - val_loss: 0.0209 - val_mae: 0.0884\n",
      "Epoch 5/100\n",
      "\u001b[1m552/552\u001b[0m \u001b[32m━━━━━━━━━━━━━━━━━━━━\u001b[0m\u001b[37m\u001b[0m \u001b[1m1s\u001b[0m 3ms/step - loss: 0.0166 - mae: 0.0638 - val_loss: 0.0174 - val_mae: 0.0749\n",
      "Epoch 6/100\n",
      "\u001b[1m552/552\u001b[0m \u001b[32m━━━━━━━━━━━━━━━━━━━━\u001b[0m\u001b[37m\u001b[0m \u001b[1m2s\u001b[0m 3ms/step - loss: 0.0156 - mae: 0.0614 - val_loss: 0.0172 - val_mae: 0.0753\n",
      "Epoch 7/100\n",
      "\u001b[1m552/552\u001b[0m \u001b[32m━━━━━━━━━━━━━━━━━━━━\u001b[0m\u001b[37m\u001b[0m \u001b[1m1s\u001b[0m 3ms/step - loss: 0.0147 - mae: 0.0586 - val_loss: 0.0175 - val_mae: 0.0743\n",
      "Epoch 8/100\n",
      "\u001b[1m552/552\u001b[0m \u001b[32m━━━━━━━━━━━━━━━━━━━━\u001b[0m\u001b[37m\u001b[0m \u001b[1m1s\u001b[0m 3ms/step - loss: 0.0139 - mae: 0.0567 - val_loss: 0.0182 - val_mae: 0.0788\n",
      "Epoch 9/100\n",
      "\u001b[1m552/552\u001b[0m \u001b[32m━━━━━━━━━━━━━━━━━━━━\u001b[0m\u001b[37m\u001b[0m \u001b[1m2s\u001b[0m 3ms/step - loss: 0.0138 - mae: 0.0565 - val_loss: 0.0170 - val_mae: 0.0729\n",
      "Epoch 10/100\n",
      "\u001b[1m552/552\u001b[0m \u001b[32m━━━━━━━━━━━━━━━━━━━━\u001b[0m\u001b[37m\u001b[0m \u001b[1m2s\u001b[0m 3ms/step - loss: 0.0133 - mae: 0.0542 - val_loss: 0.0156 - val_mae: 0.0689\n",
      "Epoch 11/100\n",
      "\u001b[1m552/552\u001b[0m \u001b[32m━━━━━━━━━━━━━━━━━━━━\u001b[0m\u001b[37m\u001b[0m \u001b[1m2s\u001b[0m 3ms/step - loss: 0.0127 - mae: 0.0523 - val_loss: 0.0162 - val_mae: 0.0714\n",
      "Epoch 12/100\n",
      "\u001b[1m552/552\u001b[0m \u001b[32m━━━━━━━━━━━━━━━━━━━━\u001b[0m\u001b[37m\u001b[0m \u001b[1m2s\u001b[0m 3ms/step - loss: 0.0123 - mae: 0.0515 - val_loss: 0.0182 - val_mae: 0.0762\n",
      "Epoch 13/100\n",
      "\u001b[1m552/552\u001b[0m \u001b[32m━━━━━━━━━━━━━━━━━━━━\u001b[0m\u001b[37m\u001b[0m \u001b[1m2s\u001b[0m 3ms/step - loss: 0.0126 - mae: 0.0528 - val_loss: 0.0155 - val_mae: 0.0696\n",
      "Epoch 14/100\n",
      "\u001b[1m552/552\u001b[0m \u001b[32m━━━━━━━━━━━━━━━━━━━━\u001b[0m\u001b[37m\u001b[0m \u001b[1m2s\u001b[0m 3ms/step - loss: 0.0111 - mae: 0.0492 - val_loss: 0.0143 - val_mae: 0.0672\n",
      "Epoch 15/100\n",
      "\u001b[1m552/552\u001b[0m \u001b[32m━━━━━━━━━━━━━━━━━━━━\u001b[0m\u001b[37m\u001b[0m \u001b[1m1s\u001b[0m 3ms/step - loss: 0.0109 - mae: 0.0489 - val_loss: 0.0148 - val_mae: 0.0688\n",
      "Epoch 16/100\n",
      "\u001b[1m552/552\u001b[0m \u001b[32m━━━━━━━━━━━━━━━━━━━━\u001b[0m\u001b[37m\u001b[0m \u001b[1m2s\u001b[0m 3ms/step - loss: 0.0112 - mae: 0.0507 - val_loss: 0.0126 - val_mae: 0.0588\n",
      "Epoch 17/100\n",
      "\u001b[1m552/552\u001b[0m \u001b[32m━━━━━━━━━━━━━━━━━━━━\u001b[0m\u001b[37m\u001b[0m \u001b[1m2s\u001b[0m 3ms/step - loss: 0.0106 - mae: 0.0484 - val_loss: 0.0167 - val_mae: 0.0759\n",
      "Epoch 18/100\n",
      "\u001b[1m552/552\u001b[0m \u001b[32m━━━━━━━━━━━━━━━━━━━━\u001b[0m\u001b[37m\u001b[0m \u001b[1m2s\u001b[0m 3ms/step - loss: 0.0104 - mae: 0.0480 - val_loss: 0.0132 - val_mae: 0.0658\n",
      "Epoch 19/100\n",
      "\u001b[1m552/552\u001b[0m \u001b[32m━━━━━━━━━━━━━━━━━━━━\u001b[0m\u001b[37m\u001b[0m \u001b[1m2s\u001b[0m 3ms/step - loss: 0.0099 - mae: 0.0467 - val_loss: 0.0131 - val_mae: 0.0643\n",
      "Epoch 20/100\n",
      "\u001b[1m552/552\u001b[0m \u001b[32m━━━━━━━━━━━━━━━━━━━━\u001b[0m\u001b[37m\u001b[0m \u001b[1m2s\u001b[0m 3ms/step - loss: 0.0107 - mae: 0.0487 - val_loss: 0.0128 - val_mae: 0.0612\n",
      "Epoch 21/100\n",
      "\u001b[1m552/552\u001b[0m \u001b[32m━━━━━━━━━━━━━━━━━━━━\u001b[0m\u001b[37m\u001b[0m \u001b[1m2s\u001b[0m 3ms/step - loss: 0.0100 - mae: 0.0468 - val_loss: 0.0115 - val_mae: 0.0575\n",
      "Epoch 22/100\n",
      "\u001b[1m552/552\u001b[0m \u001b[32m━━━━━━━━━━━━━━━━━━━━\u001b[0m\u001b[37m\u001b[0m \u001b[1m2s\u001b[0m 3ms/step - loss: 0.0101 - mae: 0.0474 - val_loss: 0.0105 - val_mae: 0.0530\n",
      "Epoch 23/100\n",
      "\u001b[1m552/552\u001b[0m \u001b[32m━━━━━━━━━━━━━━━━━━━━\u001b[0m\u001b[37m\u001b[0m \u001b[1m1s\u001b[0m 3ms/step - loss: 0.0095 - mae: 0.0450 - val_loss: 0.0108 - val_mae: 0.0531\n",
      "Epoch 24/100\n",
      "\u001b[1m552/552\u001b[0m \u001b[32m━━━━━━━━━━━━━━━━━━━━\u001b[0m\u001b[37m\u001b[0m \u001b[1m2s\u001b[0m 3ms/step - loss: 0.0103 - mae: 0.0478 - val_loss: 0.0107 - val_mae: 0.0535\n",
      "Epoch 25/100\n",
      "\u001b[1m552/552\u001b[0m \u001b[32m━━━━━━━━━━━━━━━━━━━━\u001b[0m\u001b[37m\u001b[0m \u001b[1m2s\u001b[0m 3ms/step - loss: 0.0100 - mae: 0.0465 - val_loss: 0.0115 - val_mae: 0.0542\n",
      "Epoch 26/100\n",
      "\u001b[1m552/552\u001b[0m \u001b[32m━━━━━━━━━━━━━━━━━━━━\u001b[0m\u001b[37m\u001b[0m \u001b[1m1s\u001b[0m 3ms/step - loss: 0.0099 - mae: 0.0468 - val_loss: 0.0096 - val_mae: 0.0506\n",
      "Epoch 27/100\n",
      "\u001b[1m552/552\u001b[0m \u001b[32m━━━━━━━━━━━━━━━━━━━━\u001b[0m\u001b[37m\u001b[0m \u001b[1m2s\u001b[0m 3ms/step - loss: 0.0097 - mae: 0.0454 - val_loss: 0.0104 - val_mae: 0.0503\n",
      "Epoch 28/100\n",
      "\u001b[1m552/552\u001b[0m \u001b[32m━━━━━━━━━━━━━━━━━━━━\u001b[0m\u001b[37m\u001b[0m \u001b[1m2s\u001b[0m 3ms/step - loss: 0.0101 - mae: 0.0468 - val_loss: 0.0095 - val_mae: 0.0482\n",
      "Epoch 29/100\n",
      "\u001b[1m552/552\u001b[0m \u001b[32m━━━━━━━━━━━━━━━━━━━━\u001b[0m\u001b[37m\u001b[0m \u001b[1m1s\u001b[0m 3ms/step - loss: 0.0099 - mae: 0.0461 - val_loss: 0.0096 - val_mae: 0.0499\n",
      "Epoch 30/100\n",
      "\u001b[1m552/552\u001b[0m \u001b[32m━━━━━━━━━━━━━━━━━━━━\u001b[0m\u001b[37m\u001b[0m \u001b[1m1s\u001b[0m 3ms/step - loss: 0.0101 - mae: 0.0471 - val_loss: 0.0097 - val_mae: 0.0487\n",
      "Epoch 31/100\n",
      "\u001b[1m552/552\u001b[0m \u001b[32m━━━━━━━━━━━━━━━━━━━━\u001b[0m\u001b[37m\u001b[0m \u001b[1m2s\u001b[0m 3ms/step - loss: 0.0103 - mae: 0.0468 - val_loss: 0.0088 - val_mae: 0.0457\n",
      "Epoch 32/100\n",
      "\u001b[1m552/552\u001b[0m \u001b[32m━━━━━━━━━━━━━━━━━━━━\u001b[0m\u001b[37m\u001b[0m \u001b[1m1s\u001b[0m 3ms/step - loss: 0.0097 - mae: 0.0454 - val_loss: 0.0119 - val_mae: 0.0562\n",
      "Epoch 33/100\n",
      "\u001b[1m552/552\u001b[0m \u001b[32m━━━━━━━━━━━━━━━━━━━━\u001b[0m\u001b[37m\u001b[0m \u001b[1m1s\u001b[0m 3ms/step - loss: 0.0104 - mae: 0.0473 - val_loss: 0.0099 - val_mae: 0.0521\n",
      "Epoch 34/100\n",
      "\u001b[1m552/552\u001b[0m \u001b[32m━━━━━━━━━━━━━━━━━━━━\u001b[0m\u001b[37m\u001b[0m \u001b[1m1s\u001b[0m 3ms/step - loss: 0.0095 - mae: 0.0444 - val_loss: 0.0094 - val_mae: 0.0447\n",
      "Epoch 35/100\n",
      "\u001b[1m552/552\u001b[0m \u001b[32m━━━━━━━━━━━━━━━━━━━━\u001b[0m\u001b[37m\u001b[0m \u001b[1m1s\u001b[0m 3ms/step - loss: 0.0096 - mae: 0.0445 - val_loss: 0.0103 - val_mae: 0.0487\n",
      "Epoch 36/100\n",
      "\u001b[1m552/552\u001b[0m \u001b[32m━━━━━━━━━━━━━━━━━━━━\u001b[0m\u001b[37m\u001b[0m \u001b[1m1s\u001b[0m 3ms/step - loss: 0.0101 - mae: 0.0457 - val_loss: 0.0086 - val_mae: 0.0416\n",
      "Epoch 37/100\n",
      "\u001b[1m552/552\u001b[0m \u001b[32m━━━━━━━━━━━━━━━━━━━━\u001b[0m\u001b[37m\u001b[0m \u001b[1m2s\u001b[0m 3ms/step - loss: 0.0097 - mae: 0.0457 - val_loss: 0.0095 - val_mae: 0.0493\n",
      "Epoch 38/100\n",
      "\u001b[1m552/552\u001b[0m \u001b[32m━━━━━━━━━━━━━━━━━━━━\u001b[0m\u001b[37m\u001b[0m \u001b[1m1s\u001b[0m 3ms/step - loss: 0.0091 - mae: 0.0437 - val_loss: 0.0101 - val_mae: 0.0494\n",
      "Epoch 39/100\n",
      "\u001b[1m552/552\u001b[0m \u001b[32m━━━━━━━━━━━━━━━━━━━━\u001b[0m\u001b[37m\u001b[0m \u001b[1m1s\u001b[0m 3ms/step - loss: 0.0097 - mae: 0.0450 - val_loss: 0.0094 - val_mae: 0.0438\n",
      "Epoch 40/100\n",
      "\u001b[1m552/552\u001b[0m \u001b[32m━━━━━━━━━━━━━━━━━━━━\u001b[0m\u001b[37m\u001b[0m \u001b[1m1s\u001b[0m 3ms/step - loss: 0.0096 - mae: 0.0449 - val_loss: 0.0095 - val_mae: 0.0473\n",
      "Epoch 41/100\n",
      "\u001b[1m552/552\u001b[0m \u001b[32m━━━━━━━━━━━━━━━━━━━━\u001b[0m\u001b[37m\u001b[0m \u001b[1m1s\u001b[0m 3ms/step - loss: 0.0106 - mae: 0.0486 - val_loss: 0.0098 - val_mae: 0.0505\n",
      "Epoch 42/100\n",
      "\u001b[1m552/552\u001b[0m \u001b[32m━━━━━━━━━━━━━━━━━━━━\u001b[0m\u001b[37m\u001b[0m \u001b[1m1s\u001b[0m 3ms/step - loss: 0.0095 - mae: 0.0453 - val_loss: 0.0086 - val_mae: 0.0392\n",
      "Epoch 43/100\n",
      "\u001b[1m552/552\u001b[0m \u001b[32m━━━━━━━━━━━━━━━━━━━━\u001b[0m\u001b[37m\u001b[0m \u001b[1m1s\u001b[0m 3ms/step - loss: 0.0096 - mae: 0.0448 - val_loss: 0.0092 - val_mae: 0.0426\n",
      "Epoch 44/100\n",
      "\u001b[1m552/552\u001b[0m \u001b[32m━━━━━━━━━━━━━━━━━━━━\u001b[0m\u001b[37m\u001b[0m \u001b[1m2s\u001b[0m 3ms/step - loss: 0.0101 - mae: 0.0464 - val_loss: 0.0098 - val_mae: 0.0418\n",
      "Epoch 45/100\n",
      "\u001b[1m552/552\u001b[0m \u001b[32m━━━━━━━━━━━━━━━━━━━━\u001b[0m\u001b[37m\u001b[0m \u001b[1m1s\u001b[0m 3ms/step - loss: 0.0099 - mae: 0.0454 - val_loss: 0.0095 - val_mae: 0.0452\n",
      "Epoch 46/100\n",
      "\u001b[1m552/552\u001b[0m \u001b[32m━━━━━━━━━━━━━━━━━━━━\u001b[0m\u001b[37m\u001b[0m \u001b[1m1s\u001b[0m 3ms/step - loss: 0.0095 - mae: 0.0449 - val_loss: 0.0095 - val_mae: 0.0474\n"
     ]
    },
    {
     "data": {
      "text/plain": [
       "<keras.src.callbacks.history.History at 0x27852bd7200>"
      ]
     },
     "execution_count": 14,
     "metadata": {},
     "output_type": "execute_result"
    }
   ],
   "source": [
    "model.fit(X_train, y_train,validation_data=(X_test,y_test), epochs=100, batch_size=256, verbose=1,callbacks=[early_stopping])"
   ]
  },
  {
   "cell_type": "code",
   "execution_count": null,
   "id": "ebcedcf6",
   "metadata": {},
   "outputs": [],
   "source": []
  },
  {
   "cell_type": "code",
   "execution_count": null,
   "id": "d027fbb8",
   "metadata": {},
   "outputs": [],
   "source": []
  },
  {
   "cell_type": "code",
   "execution_count": 17,
   "id": "30ebb5ba",
   "metadata": {},
   "outputs": [
    {
     "name": "stdout",
     "output_type": "stream",
     "text": [
      "\u001b[1m1/1\u001b[0m \u001b[32m━━━━━━━━━━━━━━━━━━━━\u001b[0m\u001b[37m\u001b[0m \u001b[1m0s\u001b[0m 35ms/step\n",
      "Predicted outputs for test data:\n",
      "Acceleration: 0.026925564\n",
      "Braking: 0.008691488\n",
      "Clutch: 0.43290108\n",
      "Steering: 0.03950654\n"
     ]
    }
   ],
   "source": [
    "prediction = model.predict(X_test[10100].reshape(1, -1))\n",
    "print(\"Predicted outputs for test data:\")\n",
    "print(\"Acceleration:\", prediction[0][0])\n",
    "print(\"Braking:\", prediction[0][1])\n",
    "print(\"Clutch:\", prediction[0][2])\n",
    "print(\"Steering:\", prediction[0][3])\n",
    "\n"
   ]
  },
  {
   "cell_type": "code",
   "execution_count": 16,
   "id": "569b7c38",
   "metadata": {},
   "outputs": [
    {
     "name": "stdout",
     "output_type": "stream",
     "text": [
      "Actual outputs for test data:\n",
      "[0.         0.         0.47499999 0.2806612 ]\n"
     ]
    }
   ],
   "source": [
    "\n",
    "print(\"Actual outputs for test data:\")\n",
    "print(y_test[10100])"
   ]
  },
  {
   "cell_type": "code",
   "execution_count": null,
   "id": "9c8aba37",
   "metadata": {},
   "outputs": [],
   "source": []
  },
  {
   "cell_type": "markdown",
   "id": "f069491d",
   "metadata": {},
   "source": [
    "## Save the Model and Scaler\n",
    "\n",
    "Now we'll save the trained model and the scaler so we can use them in the driver.py file. We'll use the newer Keras format for the model and joblib for the scaler."
   ]
  },
  {
   "cell_type": "code",
   "execution_count": 18,
   "id": "590de7c0",
   "metadata": {},
   "outputs": [
    {
     "name": "stderr",
     "output_type": "stream",
     "text": [
      "WARNING:absl:You are saving your model as an HDF5 file via `model.save()` or `keras.saving.save_model(model)`. This file format is considered legacy. We recommend using instead the native Keras format, e.g. `model.save('my_model.keras')` or `keras.saving.save_model(model, 'my_model.keras')`. \n"
     ]
    },
    {
     "name": "stdout",
     "output_type": "stream",
     "text": [
      "Model saved to c:\\Users\\Zestro\\Desktop\\AI\\Project\\TORCS-Using-NeuralNetworks\\models\\torcs_driver_model.keras\n",
      "Model saved to c:\\Users\\Zestro\\Desktop\\AI\\Project\\TORCS-Using-NeuralNetworks\\models\\torcs_driver_model.h5\n",
      "Scaler saved to c:\\Users\\Zestro\\Desktop\\AI\\Project\\TORCS-Using-NeuralNetworks\\models\\torcs_scaler.joblib\n"
     ]
    }
   ],
   "source": [
    "import os\n",
    "import joblib\n",
    "from tensorflow.keras.models import load_model\n",
    "\n",
    "# Create a models directory if it doesn't exist\n",
    "model_dir = os.path.join(os.path.dirname(os.getcwd()), \"models\")\n",
    "os.makedirs(model_dir, exist_ok=True)\n",
    "\n",
    "# Save the model using the newer Keras format\n",
    "model_path = os.path.join(model_dir, \"torcs_driver_model.keras\")\n",
    "model.save(model_path)\n",
    "print(f\"Model saved to {model_path}\")\n",
    "\n",
    "# Save the model using the older HDF5 format\n",
    "hdf5_model_path = os.path.join(model_dir, \"torcs_driver_model.h5\")\n",
    "model.save(hdf5_model_path)\n",
    "print(f\"Model saved to {hdf5_model_path}\")\n",
    "\n",
    "# Save the scaler using joblib\n",
    "scaler_path = os.path.join(model_dir, \"torcs_scaler.joblib\")\n",
    "joblib.dump(scaler, scaler_path)\n",
    "print(f\"Scaler saved to {scaler_path}\")"
   ]
  },
  {
   "cell_type": "markdown",
   "id": "22bdbc12",
   "metadata": {},
   "source": [
    "## Test Loading the Model and Scaler\n",
    "\n",
    "Let's verify we can load the model and scaler correctly and get consistent predictions."
   ]
  },
  {
   "cell_type": "code",
   "execution_count": 19,
   "id": "ed74af9c",
   "metadata": {},
   "outputs": [
    {
     "name": "stdout",
     "output_type": "stream",
     "text": [
      "Prediction with loaded model:\n",
      "Acceleration: 0.026925564\n",
      "Braking: 0.008691488\n",
      "Steering: 0.43290108\n",
      "\n",
      "Original prediction:\n",
      "Acceleration: 0.026925564\n",
      "Braking: 0.008691488\n",
      "Steering: 0.43290108\n",
      "\n",
      "Predictions match: True\n"
     ]
    }
   ],
   "source": [
    "# Test loading the model and scaler\n",
    "loaded_model = load_model(model_path)\n",
    "loaded_scaler = joblib.load(scaler_path)\n",
    "\n",
    "# Use the same sample_data as above\n",
    "\n",
    "prediction_loaded = loaded_model.predict(X_test[10100].reshape(1,-1), verbose=0)\n",
    "\n",
    "print(\"Prediction with loaded model:\")\n",
    "print(\"Acceleration:\", prediction_loaded[0][0])\n",
    "print(\"Braking:\", prediction_loaded[0][1])\n",
    "print(\"Steering:\", prediction_loaded[0][2])\n",
    "\n",
    "\n",
    "print(\"\\nOriginal prediction:\")\n",
    "print(\"Acceleration:\", prediction[0][0])\n",
    "print(\"Braking:\", prediction[0][1])\n",
    "print(\"Steering:\", prediction[0][2])\n",
    "\n",
    "\n",
    "is_close = np.allclose(prediction_loaded, prediction, rtol=1e-5)\n",
    "print(f\"\\nPredictions match: {is_close}\")\n",
    "if not is_close:\n",
    "    print(\"\\nDifference:\")\n",
    "    print(np.abs(prediction_loaded - prediction))"
   ]
  },
  {
   "cell_type": "code",
   "execution_count": null,
   "id": "67d48bf2",
   "metadata": {},
   "outputs": [
    {
     "ename": "TypeError",
     "evalue": "pop expected at most 1 argument, got 2",
     "output_type": "error",
     "traceback": [
      "\u001b[1;31m---------------------------------------------------------------------------\u001b[0m",
      "\u001b[1;31mTypeError\u001b[0m                                 Traceback (most recent call last)",
      "Cell \u001b[1;32mIn[27], line 6\u001b[0m\n\u001b[0;32m      2\u001b[0m \u001b[38;5;28;01mfrom\u001b[39;00m\u001b[38;5;250m \u001b[39m\u001b[38;5;21;01mkeras\u001b[39;00m\u001b[38;5;21;01m.\u001b[39;00m\u001b[38;5;21;01mmodels\u001b[39;00m\u001b[38;5;250m \u001b[39m\u001b[38;5;28;01mimport\u001b[39;00m load_model\n\u001b[0;32m      5\u001b[0m hdf5_model_path \u001b[38;5;241m=\u001b[39m \u001b[38;5;124m'\u001b[39m\u001b[38;5;124mmodels/torcs_model_driver.h5\u001b[39m\u001b[38;5;124m'\u001b[39m\n\u001b[1;32m----> 6\u001b[0m old_model \u001b[38;5;241m=\u001b[39m \u001b[43mload_model\u001b[49m\u001b[43m(\u001b[49m\u001b[43mhdf5_model_path\u001b[49m\u001b[43m)\u001b[49m\n\u001b[0;32m      7\u001b[0m _ \u001b[38;5;241m=\u001b[39m old_model\u001b[38;5;241m.\u001b[39mpredict(np\u001b[38;5;241m.\u001b[39mzeros((\u001b[38;5;241m1\u001b[39m, \u001b[38;5;241m73\u001b[39m), dtype\u001b[38;5;241m=\u001b[39mnp\u001b[38;5;241m.\u001b[39mfloat32))\n\u001b[0;32m      8\u001b[0m converter \u001b[38;5;241m=\u001b[39m tf\u001b[38;5;241m.\u001b[39mlite\u001b[38;5;241m.\u001b[39mTFLiteConverter\u001b[38;5;241m.\u001b[39mfrom_keras_model(old_model)\n",
      "File \u001b[1;32mc:\\Users\\Zestro\\anaconda3\\Lib\\site-packages\\keras\\src\\saving\\saving_api.py:196\u001b[0m, in \u001b[0;36mload_model\u001b[1;34m(filepath, custom_objects, compile, safe_mode)\u001b[0m\n\u001b[0;32m    189\u001b[0m     \u001b[38;5;28;01mreturn\u001b[39;00m saving_lib\u001b[38;5;241m.\u001b[39mload_model(\n\u001b[0;32m    190\u001b[0m         filepath,\n\u001b[0;32m    191\u001b[0m         custom_objects\u001b[38;5;241m=\u001b[39mcustom_objects,\n\u001b[0;32m    192\u001b[0m         \u001b[38;5;28mcompile\u001b[39m\u001b[38;5;241m=\u001b[39m\u001b[38;5;28mcompile\u001b[39m,\n\u001b[0;32m    193\u001b[0m         safe_mode\u001b[38;5;241m=\u001b[39msafe_mode,\n\u001b[0;32m    194\u001b[0m     )\n\u001b[0;32m    195\u001b[0m \u001b[38;5;28;01mif\u001b[39;00m \u001b[38;5;28mstr\u001b[39m(filepath)\u001b[38;5;241m.\u001b[39mendswith((\u001b[38;5;124m\"\u001b[39m\u001b[38;5;124m.h5\u001b[39m\u001b[38;5;124m\"\u001b[39m, \u001b[38;5;124m\"\u001b[39m\u001b[38;5;124m.hdf5\u001b[39m\u001b[38;5;124m\"\u001b[39m)):\n\u001b[1;32m--> 196\u001b[0m     \u001b[38;5;28;01mreturn\u001b[39;00m \u001b[43mlegacy_h5_format\u001b[49m\u001b[38;5;241;43m.\u001b[39;49m\u001b[43mload_model_from_hdf5\u001b[49m\u001b[43m(\u001b[49m\n\u001b[0;32m    197\u001b[0m \u001b[43m        \u001b[49m\u001b[43mfilepath\u001b[49m\u001b[43m,\u001b[49m\u001b[43m \u001b[49m\u001b[43mcustom_objects\u001b[49m\u001b[38;5;241;43m=\u001b[39;49m\u001b[43mcustom_objects\u001b[49m\u001b[43m,\u001b[49m\u001b[43m \u001b[49m\u001b[38;5;28;43mcompile\u001b[39;49m\u001b[38;5;241;43m=\u001b[39;49m\u001b[38;5;28;43mcompile\u001b[39;49m\n\u001b[0;32m    198\u001b[0m \u001b[43m    \u001b[49m\u001b[43m)\u001b[49m\n\u001b[0;32m    199\u001b[0m \u001b[38;5;28;01melif\u001b[39;00m \u001b[38;5;28mstr\u001b[39m(filepath)\u001b[38;5;241m.\u001b[39mendswith(\u001b[38;5;124m\"\u001b[39m\u001b[38;5;124m.keras\u001b[39m\u001b[38;5;124m\"\u001b[39m):\n\u001b[0;32m    200\u001b[0m     \u001b[38;5;28;01mraise\u001b[39;00m \u001b[38;5;167;01mValueError\u001b[39;00m(\n\u001b[0;32m    201\u001b[0m         \u001b[38;5;124mf\u001b[39m\u001b[38;5;124m\"\u001b[39m\u001b[38;5;124mFile not found: filepath=\u001b[39m\u001b[38;5;132;01m{\u001b[39;00mfilepath\u001b[38;5;132;01m}\u001b[39;00m\u001b[38;5;124m. \u001b[39m\u001b[38;5;124m\"\u001b[39m\n\u001b[0;32m    202\u001b[0m         \u001b[38;5;124m\"\u001b[39m\u001b[38;5;124mPlease ensure the file is an accessible `.keras` \u001b[39m\u001b[38;5;124m\"\u001b[39m\n\u001b[0;32m    203\u001b[0m         \u001b[38;5;124m\"\u001b[39m\u001b[38;5;124mzip file.\u001b[39m\u001b[38;5;124m\"\u001b[39m\n\u001b[0;32m    204\u001b[0m     )\n",
      "File \u001b[1;32mc:\\Users\\Zestro\\anaconda3\\Lib\\site-packages\\keras\\src\\legacy\\saving\\legacy_h5_format.py:133\u001b[0m, in \u001b[0;36mload_model_from_hdf5\u001b[1;34m(filepath, custom_objects, compile)\u001b[0m\n\u001b[0;32m    130\u001b[0m model_config \u001b[38;5;241m=\u001b[39m json_utils\u001b[38;5;241m.\u001b[39mdecode(model_config)\n\u001b[0;32m    132\u001b[0m \u001b[38;5;28;01mwith\u001b[39;00m saving_options\u001b[38;5;241m.\u001b[39mkeras_option_scope(use_legacy_config\u001b[38;5;241m=\u001b[39m\u001b[38;5;28;01mTrue\u001b[39;00m):\n\u001b[1;32m--> 133\u001b[0m     model \u001b[38;5;241m=\u001b[39m \u001b[43msaving_utils\u001b[49m\u001b[38;5;241;43m.\u001b[39;49m\u001b[43mmodel_from_config\u001b[49m\u001b[43m(\u001b[49m\n\u001b[0;32m    134\u001b[0m \u001b[43m        \u001b[49m\u001b[43mmodel_config\u001b[49m\u001b[43m,\u001b[49m\u001b[43m \u001b[49m\u001b[43mcustom_objects\u001b[49m\u001b[38;5;241;43m=\u001b[39;49m\u001b[43mcustom_objects\u001b[49m\n\u001b[0;32m    135\u001b[0m \u001b[43m    \u001b[49m\u001b[43m)\u001b[49m\n\u001b[0;32m    137\u001b[0m     \u001b[38;5;66;03m# set weights\u001b[39;00m\n\u001b[0;32m    138\u001b[0m     load_weights_from_hdf5_group(f[\u001b[38;5;124m\"\u001b[39m\u001b[38;5;124mmodel_weights\u001b[39m\u001b[38;5;124m\"\u001b[39m], model)\n",
      "File \u001b[1;32mc:\\Users\\Zestro\\anaconda3\\Lib\\site-packages\\keras\\src\\legacy\\saving\\saving_utils.py:58\u001b[0m, in \u001b[0;36mmodel_from_config\u001b[1;34m(config, custom_objects)\u001b[0m\n\u001b[0;32m     55\u001b[0m     MODULE_OBJECTS\u001b[38;5;241m.\u001b[39mALL_OBJECTS[\u001b[38;5;124m\"\u001b[39m\u001b[38;5;124mModel\u001b[39m\u001b[38;5;124m\"\u001b[39m] \u001b[38;5;241m=\u001b[39m models\u001b[38;5;241m.\u001b[39mModel\n\u001b[0;32m     56\u001b[0m     MODULE_OBJECTS\u001b[38;5;241m.\u001b[39mALL_OBJECTS[\u001b[38;5;124m\"\u001b[39m\u001b[38;5;124mSequential\u001b[39m\u001b[38;5;124m\"\u001b[39m] \u001b[38;5;241m=\u001b[39m models\u001b[38;5;241m.\u001b[39mSequential\n\u001b[1;32m---> 58\u001b[0m batch_input_shape \u001b[38;5;241m=\u001b[39m \u001b[43mconfig\u001b[49m\u001b[43m[\u001b[49m\u001b[38;5;124;43m\"\u001b[39;49m\u001b[38;5;124;43mconfig\u001b[39;49m\u001b[38;5;124;43m\"\u001b[39;49m\u001b[43m]\u001b[49m\u001b[38;5;241;43m.\u001b[39;49m\u001b[43mpop\u001b[49m\u001b[43m(\u001b[49m\u001b[38;5;124;43m\"\u001b[39;49m\u001b[38;5;124;43mbatch_input_shape\u001b[39;49m\u001b[38;5;124;43m\"\u001b[39;49m\u001b[43m,\u001b[49m\u001b[43m \u001b[49m\u001b[38;5;28;43;01mNone\u001b[39;49;00m\u001b[43m)\u001b[49m\n\u001b[0;32m     59\u001b[0m \u001b[38;5;28;01mif\u001b[39;00m batch_input_shape \u001b[38;5;129;01mis\u001b[39;00m \u001b[38;5;129;01mnot\u001b[39;00m \u001b[38;5;28;01mNone\u001b[39;00m:\n\u001b[0;32m     60\u001b[0m     \u001b[38;5;28;01mif\u001b[39;00m config[\u001b[38;5;124m\"\u001b[39m\u001b[38;5;124mclass_name\u001b[39m\u001b[38;5;124m\"\u001b[39m] \u001b[38;5;241m==\u001b[39m \u001b[38;5;124m\"\u001b[39m\u001b[38;5;124mInputLayer\u001b[39m\u001b[38;5;124m\"\u001b[39m:\n",
      "\u001b[1;31mTypeError\u001b[0m: pop expected at most 1 argument, got 2"
     ]
    }
   ],
   "source": [
    "import tensorflow as tf\n",
    "\n",
    "\n",
    "hdf5_model_path = os.path.join(model_dir, \"torcs_model_driver.h5\")\n",
    "old_model = tf.keras.models.load_model(hdf5_model_path)\n",
    "\n",
    "converter = tf.lite.TFLiteConverter.from_keras_model(old_model)\n",
    "converter.optimizations = [tf.lite.Optimize.DEFAULT]\n",
    "tflite_model = converter.convert()\n",
    "\n",
    "tflite_model_path = os.path.join(model_dir, \"torcs_driver_model.tflite\")\n",
    "with open(tflite_model_path, 'wb') as f:\n",
    "    f.write(tflite_model)\n",
    "print(f\"TFLite model saved to {tflite_model_path}\")\n"
   ]
  },
  {
   "cell_type": "code",
   "execution_count": null,
   "id": "35157e08",
   "metadata": {},
   "outputs": [],
   "source": []
  }
 ],
 "metadata": {
  "kernelspec": {
   "display_name": "base",
   "language": "python",
   "name": "python3"
  },
  "language_info": {
   "codemirror_mode": {
    "name": "ipython",
    "version": 3
   },
   "file_extension": ".py",
   "mimetype": "text/x-python",
   "name": "python",
   "nbconvert_exporter": "python",
   "pygments_lexer": "ipython3",
   "version": "3.12.7"
  }
 },
 "nbformat": 4,
 "nbformat_minor": 5
}
